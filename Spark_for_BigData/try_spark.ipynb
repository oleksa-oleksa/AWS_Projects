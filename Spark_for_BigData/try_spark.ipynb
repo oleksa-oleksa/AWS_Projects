{
 "cells": [
  {
   "cell_type": "code",
   "execution_count": 1,
   "id": "f5a0e3e2",
   "metadata": {},
   "outputs": [],
   "source": [
    "from pyspark.sql import SparkSession"
   ]
  },
  {
   "cell_type": "code",
   "execution_count": 3,
   "id": "3d2b7755",
   "metadata": {},
   "outputs": [
    {
     "name": "stdout",
     "output_type": "stream",
     "text": [
      "23/02/10 21:23:12 WARN SparkSession: Using an existing Spark session; only runtime SQL configurations will take effect.\n"
     ]
    }
   ],
   "source": [
    "spark = SparkSession.builder.appName(\"Basics\").getOrCreate()"
   ]
  },
  {
   "cell_type": "code",
   "execution_count": 37,
   "id": "6998e6ac",
   "metadata": {},
   "outputs": [],
   "source": [
    "df = spark.read.csv(\"data/nces330_20.csv\")"
   ]
  },
  {
   "cell_type": "code",
   "execution_count": 38,
   "id": "7bc97b79",
   "metadata": {},
   "outputs": [
    {
     "name": "stdout",
     "output_type": "stream",
     "text": [
      "root\n",
      " |-- _c0: string (nullable = true)\n",
      " |-- _c1: string (nullable = true)\n",
      " |-- _c2: string (nullable = true)\n",
      " |-- _c3: string (nullable = true)\n",
      " |-- _c4: string (nullable = true)\n",
      " |-- _c5: string (nullable = true)\n",
      "\n"
     ]
    }
   ],
   "source": [
    "df.printSchema()"
   ]
  },
  {
   "cell_type": "code",
   "execution_count": 39,
   "id": "87914cbf",
   "metadata": {},
   "outputs": [
    {
     "data": {
      "text/plain": [
       "['_c0', '_c1', '_c2', '_c3', '_c4', '_c5']"
      ]
     },
     "execution_count": 39,
     "metadata": {},
     "output_type": "execute_result"
    }
   ],
   "source": [
    "df.columns"
   ]
  },
  {
   "cell_type": "code",
   "execution_count": 40,
   "id": "8281144b",
   "metadata": {},
   "outputs": [
    {
     "name": "stdout",
     "output_type": "stream",
     "text": [
      "+----+-------+-------------------+------+------------+-----+\n",
      "| _c0|    _c1|                _c2|   _c3|         _c4|  _c5|\n",
      "+----+-------+-------------------+------+------------+-----+\n",
      "|Year|  State|               Type|Length|     Expense|Value|\n",
      "|2013|Alabama|            Private|4-year|Fees/Tuition|13983|\n",
      "|2013|Alabama|            Private|4-year|  Room/Board| 8503|\n",
      "|2013|Alabama|    Public In-State|2-year|Fees/Tuition| 4048|\n",
      "|2013|Alabama|    Public In-State|4-year|Fees/Tuition| 8073|\n",
      "|2013|Alabama|    Public In-State|4-year|  Room/Board| 8473|\n",
      "|2013|Alabama|Public Out-of-State|2-year|Fees/Tuition| 7736|\n",
      "|2013|Alabama|Public Out-of-State|4-year|Fees/Tuition|20380|\n",
      "|2013|Alabama|Public Out-of-State|4-year|  Room/Board| 8473|\n",
      "|2013| Alaska|            Private|4-year|Fees/Tuition|21496|\n",
      "|2013| Alaska|            Private|4-year|  Room/Board| 8923|\n",
      "|2013| Alaska|    Public In-State|2-year|Fees/Tuition| 3972|\n",
      "|2013| Alaska|    Public In-State|4-year|Fees/Tuition| 6317|\n",
      "|2013| Alaska|    Public In-State|4-year|  Room/Board| 9098|\n",
      "|2013| Alaska|Public Out-of-State|2-year|Fees/Tuition| 4150|\n",
      "|2013| Alaska|Public Out-of-State|4-year|Fees/Tuition|18790|\n",
      "|2013| Alaska|Public Out-of-State|4-year|  Room/Board| 9098|\n",
      "|2013|Arizona|            Private|4-year|Fees/Tuition|11650|\n",
      "|2013|Arizona|            Private|4-year|  Room/Board| 8744|\n",
      "|2013|Arizona|    Public In-State|2-year|Fees/Tuition| 1842|\n",
      "+----+-------+-------------------+------+------------+-----+\n",
      "only showing top 20 rows\n",
      "\n"
     ]
    }
   ],
   "source": [
    "df.show()"
   ]
  },
  {
   "cell_type": "code",
   "execution_count": 41,
   "id": "deaa5b72",
   "metadata": {},
   "outputs": [
    {
     "data": {
      "text/plain": [
       "DataFrame[summary: string, _c0: string, _c1: string, _c2: string, _c3: string, _c4: string, _c5: string]"
      ]
     },
     "execution_count": 41,
     "metadata": {},
     "output_type": "execute_result"
    }
   ],
   "source": [
    "df.describe()"
   ]
  },
  {
   "cell_type": "code",
   "execution_count": 109,
   "id": "32cfb65f",
   "metadata": {},
   "outputs": [],
   "source": [
    "from pyspark.sql.types import (StructField, StringType, IntegerType, StructType, FloatType, LongType)"
   ]
  },
  {
   "cell_type": "code",
   "execution_count": 43,
   "id": "86050137",
   "metadata": {},
   "outputs": [],
   "source": [
    "data_schema = [StructField('Year', IntegerType(), True), StructField('State', StringType(), True), \n",
    "               StructField('Type', StringType(), True), StructField('Lenght', StringType(), True),\n",
    "               StructField('Expense', StringType(), True), StructField('Value', IntegerType(), True)\n",
    "              ]"
   ]
  },
  {
   "cell_type": "code",
   "execution_count": 44,
   "id": "cfbf0a2b",
   "metadata": {},
   "outputs": [],
   "source": [
    "final_struct = StructType(fields=data_schema)"
   ]
  },
  {
   "cell_type": "code",
   "execution_count": 45,
   "id": "06ca3b4f",
   "metadata": {},
   "outputs": [
    {
     "name": "stdout",
     "output_type": "stream",
     "text": [
      "root\n",
      " |-- Year: integer (nullable = true)\n",
      " |-- State: string (nullable = true)\n",
      " |-- Type: string (nullable = true)\n",
      " |-- Lenght: string (nullable = true)\n",
      " |-- Expense: string (nullable = true)\n",
      " |-- Value: integer (nullable = true)\n",
      "\n"
     ]
    }
   ],
   "source": [
    "df = spark.read.csv(\"data/nces330_20.csv\", schema=final_struct)\n",
    "df.printSchema()"
   ]
  },
  {
   "cell_type": "code",
   "execution_count": 46,
   "id": "e0233aaf",
   "metadata": {},
   "outputs": [
    {
     "data": {
      "text/plain": [
       "pyspark.sql.column.Column"
      ]
     },
     "execution_count": 46,
     "metadata": {},
     "output_type": "execute_result"
    }
   ],
   "source": [
    "type(df[\"Year\"])"
   ]
  },
  {
   "cell_type": "code",
   "execution_count": 47,
   "id": "b4915dd9",
   "metadata": {},
   "outputs": [
    {
     "data": {
      "text/plain": [
       "pyspark.sql.dataframe.DataFrame"
      ]
     },
     "execution_count": 47,
     "metadata": {},
     "output_type": "execute_result"
    }
   ],
   "source": [
    "type(df.select(\"Year\"))\n"
   ]
  },
  {
   "cell_type": "code",
   "execution_count": 48,
   "id": "fc19d4c6",
   "metadata": {},
   "outputs": [
    {
     "name": "stdout",
     "output_type": "stream",
     "text": [
      "Row(Year=None, State='State', Type='Type', Lenght='Length', Expense='Expense', Value=None)\n"
     ]
    }
   ],
   "source": [
    "print(df.head(2)[0])"
   ]
  },
  {
   "cell_type": "code",
   "execution_count": 49,
   "id": "fb5b44e3",
   "metadata": {},
   "outputs": [
    {
     "data": {
      "text/plain": [
       "DataFrame[Year: int, Value: int]"
      ]
     },
     "execution_count": 49,
     "metadata": {},
     "output_type": "execute_result"
    }
   ],
   "source": [
    "df.select(['Year', 'Value'])"
   ]
  },
  {
   "cell_type": "code",
   "execution_count": 50,
   "id": "922589ae",
   "metadata": {},
   "outputs": [
    {
     "name": "stdout",
     "output_type": "stream",
     "text": [
      "+----+-------+-------------------+------+------------+-----+------------------+\n",
      "|Year|  State|               Type|Lenght|     Expense|Value|         Price UAH|\n",
      "+----+-------+-------------------+------+------------+-----+------------------+\n",
      "|null|  State|               Type|Length|     Expense| null|              null|\n",
      "|2013|Alabama|            Private|4-year|Fees/Tuition|13983| 562116.6000000001|\n",
      "|2013|Alabama|            Private|4-year|  Room/Board| 8503|341820.60000000003|\n",
      "|2013|Alabama|    Public In-State|2-year|Fees/Tuition| 4048|          162729.6|\n",
      "|2013|Alabama|    Public In-State|4-year|Fees/Tuition| 8073|324534.60000000003|\n",
      "|2013|Alabama|    Public In-State|4-year|  Room/Board| 8473|340614.60000000003|\n",
      "|2013|Alabama|Public Out-of-State|2-year|Fees/Tuition| 7736|          310987.2|\n",
      "|2013|Alabama|Public Out-of-State|4-year|Fees/Tuition|20380|          819276.0|\n",
      "|2013|Alabama|Public Out-of-State|4-year|  Room/Board| 8473|340614.60000000003|\n",
      "|2013| Alaska|            Private|4-year|Fees/Tuition|21496| 864139.2000000001|\n",
      "|2013| Alaska|            Private|4-year|  Room/Board| 8923|358704.60000000003|\n",
      "|2013| Alaska|    Public In-State|2-year|Fees/Tuition| 3972|159674.40000000002|\n",
      "|2013| Alaska|    Public In-State|4-year|Fees/Tuition| 6317|253943.40000000002|\n",
      "|2013| Alaska|    Public In-State|4-year|  Room/Board| 9098|365739.60000000003|\n",
      "|2013| Alaska|Public Out-of-State|2-year|Fees/Tuition| 4150|          166830.0|\n",
      "|2013| Alaska|Public Out-of-State|4-year|Fees/Tuition|18790|          755358.0|\n",
      "|2013| Alaska|Public Out-of-State|4-year|  Room/Board| 9098|365739.60000000003|\n",
      "|2013|Arizona|            Private|4-year|Fees/Tuition|11650|468330.00000000006|\n",
      "|2013|Arizona|            Private|4-year|  Room/Board| 8744|351508.80000000005|\n",
      "|2013|Arizona|    Public In-State|2-year|Fees/Tuition| 1842| 74048.40000000001|\n",
      "+----+-------+-------------------+------+------------+-----+------------------+\n",
      "only showing top 20 rows\n",
      "\n"
     ]
    }
   ],
   "source": [
    "df.withColumn('Price UAH', df['Value']*40.2).show()"
   ]
  },
  {
   "cell_type": "code",
   "execution_count": 54,
   "id": "1aeff54d",
   "metadata": {},
   "outputs": [
    {
     "name": "stdout",
     "output_type": "stream",
     "text": [
      "+----+-------+-------------------+------+------------+-----+\n",
      "|Year|  State|               Type|Lenght|     Expense|Value|\n",
      "+----+-------+-------------------+------+------------+-----+\n",
      "|null|  State|               Type|Length|     Expense| null|\n",
      "|2013|Alabama|            Private|4-year|Fees/Tuition|13983|\n",
      "|2013|Alabama|            Private|4-year|  Room/Board| 8503|\n",
      "|2013|Alabama|    Public In-State|2-year|Fees/Tuition| 4048|\n",
      "|2013|Alabama|    Public In-State|4-year|Fees/Tuition| 8073|\n",
      "|2013|Alabama|    Public In-State|4-year|  Room/Board| 8473|\n",
      "|2013|Alabama|Public Out-of-State|2-year|Fees/Tuition| 7736|\n",
      "|2013|Alabama|Public Out-of-State|4-year|Fees/Tuition|20380|\n",
      "|2013|Alabama|Public Out-of-State|4-year|  Room/Board| 8473|\n",
      "|2013| Alaska|            Private|4-year|Fees/Tuition|21496|\n",
      "|2013| Alaska|            Private|4-year|  Room/Board| 8923|\n",
      "|2013| Alaska|    Public In-State|2-year|Fees/Tuition| 3972|\n",
      "|2013| Alaska|    Public In-State|4-year|Fees/Tuition| 6317|\n",
      "|2013| Alaska|    Public In-State|4-year|  Room/Board| 9098|\n",
      "|2013| Alaska|Public Out-of-State|2-year|Fees/Tuition| 4150|\n",
      "|2013| Alaska|Public Out-of-State|4-year|Fees/Tuition|18790|\n",
      "|2013| Alaska|Public Out-of-State|4-year|  Room/Board| 9098|\n",
      "|2013|Arizona|            Private|4-year|Fees/Tuition|11650|\n",
      "|2013|Arizona|            Private|4-year|  Room/Board| 8744|\n",
      "|2013|Arizona|    Public In-State|2-year|Fees/Tuition| 1842|\n",
      "+----+-------+-------------------+------+------------+-----+\n",
      "only showing top 20 rows\n",
      "\n"
     ]
    }
   ],
   "source": [
    "# register DF as a temporary SQL VIEW\n",
    "df.createOrReplaceTempView(\"uni\")\n",
    "results = spark.sql(\"select * from uni\")\n",
    "results.show()"
   ]
  },
  {
   "cell_type": "code",
   "execution_count": 55,
   "id": "bdd3426f",
   "metadata": {},
   "outputs": [
    {
     "name": "stdout",
     "output_type": "stream",
     "text": [
      "+----+------+-------------------+------+------------+-----+\n",
      "|Year| State|               Type|Lenght|     Expense|Value|\n",
      "+----+------+-------------------+------+------------+-----+\n",
      "|2013|Alaska|            Private|4-year|Fees/Tuition|21496|\n",
      "|2014|Alaska|            Private|4-year|Fees/Tuition|20943|\n",
      "|2016|Alaska|Public Out-of-State|4-year|Fees/Tuition|20463|\n",
      "|2017|Alaska|Public Out-of-State|4-year|Fees/Tuition|21431|\n",
      "|2018|Alaska|Public Out-of-State|4-year|Fees/Tuition|21284|\n",
      "|2019|Alaska|Public Out-of-State|4-year|Fees/Tuition|24454|\n",
      "|2020|Alaska|Public Out-of-State|4-year|Fees/Tuition|26767|\n",
      "|2021|Alaska|Public Out-of-State|4-year|Fees/Tuition|25535|\n",
      "+----+------+-------------------+------+------------+-----+\n",
      "\n"
     ]
    }
   ],
   "source": [
    "results = spark.sql(\"select * from uni where Value>20000 and State='Alaska'\")\n",
    "results.show()\n"
   ]
  },
  {
   "cell_type": "code",
   "execution_count": 64,
   "id": "411cf93f",
   "metadata": {},
   "outputs": [
    {
     "name": "stdout",
     "output_type": "stream",
     "text": [
      "+----+--------------------+-----+\n",
      "|Year|               State|Value|\n",
      "+----+--------------------+-----+\n",
      "|2013|             Alabama|20380|\n",
      "|2013|              Alaska|21496|\n",
      "|2013|             Arizona|21201|\n",
      "|2013|          California|28345|\n",
      "|2013|          California|30765|\n",
      "|2013|            Colorado|25470|\n",
      "|2013|         Connecticut|35336|\n",
      "|2013|         Connecticut|26688|\n",
      "|2013|            Delaware|26228|\n",
      "|2013|District of Columbia|35524|\n",
      "|2013|             Florida|20155|\n",
      "|2013|             Georgia|22456|\n",
      "|2013|             Georgia|22393|\n",
      "|2013|              Hawaii|23614|\n",
      "|2013|            Illinois|26299|\n",
      "|2013|            Illinois|26873|\n",
      "|2013|             Indiana|26794|\n",
      "|2013|             Indiana|26538|\n",
      "|2013|                Iowa|23019|\n",
      "|2013|              Kansas|20852|\n",
      "+----+--------------------+-----+\n",
      "only showing top 20 rows\n",
      "\n"
     ]
    }
   ],
   "source": [
    "df.filter(\"Value > 20000\").select(['Year', 'State', 'Value']).show()"
   ]
  },
  {
   "cell_type": "code",
   "execution_count": 69,
   "id": "a804b243",
   "metadata": {},
   "outputs": [
    {
     "name": "stdout",
     "output_type": "stream",
     "text": [
      "+----+--------------------+-----+\n",
      "|Year|               State|Value|\n",
      "+----+--------------------+-----+\n",
      "|2013|             Alabama|20380|\n",
      "|2013|             Arizona|21201|\n",
      "|2013|          California|28345|\n",
      "|2013|          California|30765|\n",
      "|2013|            Colorado|25470|\n",
      "|2013|         Connecticut|35336|\n",
      "|2013|         Connecticut|26688|\n",
      "|2013|            Delaware|26228|\n",
      "|2013|District of Columbia|35524|\n",
      "|2013|             Florida|20155|\n",
      "|2013|             Georgia|22456|\n",
      "|2013|             Georgia|22393|\n",
      "|2013|              Hawaii|23614|\n",
      "|2013|            Illinois|26299|\n",
      "|2013|            Illinois|26873|\n",
      "|2013|             Indiana|26794|\n",
      "|2013|             Indiana|26538|\n",
      "|2013|                Iowa|23019|\n",
      "|2013|              Kansas|20852|\n",
      "|2013|            Kentucky|20639|\n",
      "+----+--------------------+-----+\n",
      "only showing top 20 rows\n",
      "\n"
     ]
    }
   ],
   "source": [
    "df.filter((df[\"Value\"] > 20000) & ~(df[\"State\"] == \"Alaska\")).select(['Year', 'State', 'Value']).show()"
   ]
  },
  {
   "cell_type": "code",
   "execution_count": 71,
   "id": "7c8345bc",
   "metadata": {},
   "outputs": [
    {
     "data": {
      "text/plain": [
       "<pyspark.sql.group.GroupedData at 0x1090e7810>"
      ]
     },
     "execution_count": 71,
     "metadata": {},
     "output_type": "execute_result"
    }
   ],
   "source": [
    "df.groupBy(\"State\")"
   ]
  },
  {
   "cell_type": "code",
   "execution_count": 73,
   "id": "3863bca6",
   "metadata": {},
   "outputs": [
    {
     "name": "stdout",
     "output_type": "stream",
     "text": [
      "+--------------------+------------------+\n",
      "|               State|        avg(Value)|\n",
      "+--------------------+------------------+\n",
      "|                Utah| 8918.549295774648|\n",
      "|              Hawaii| 12524.30985915493|\n",
      "|           Minnesota|12642.295774647888|\n",
      "|                Ohio|13620.802816901409|\n",
      "|            Arkansas| 10233.81690140845|\n",
      "|              Oregon| 15533.43661971831|\n",
      "|               Texas| 12596.38028169014|\n",
      "|        North Dakota|  9227.74647887324|\n",
      "|        Pennsylvania|16368.957746478873|\n",
      "|         Connecticut|17435.211267605635|\n",
      "|            Nebraska| 10701.81690140845|\n",
      "|             Vermont| 18596.49295774648|\n",
      "|              Nevada|           12710.6|\n",
      "|               State|              null|\n",
      "|          Washington|14730.028169014084|\n",
      "|            Illinois|15167.633802816901|\n",
      "|            Oklahoma|11215.225352112677|\n",
      "|District of Columbia|           18880.2|\n",
      "|            Delaware|13834.622950819672|\n",
      "|              Alaska|11629.174603174602|\n",
      "+--------------------+------------------+\n",
      "only showing top 20 rows\n",
      "\n"
     ]
    }
   ],
   "source": [
    "df.groupBy(\"State\").mean(\"Value\").show()"
   ]
  },
  {
   "cell_type": "code",
   "execution_count": 80,
   "id": "002b658c",
   "metadata": {},
   "outputs": [
    {
     "name": "stdout",
     "output_type": "stream",
     "text": [
      "+----------+\n",
      "|max(Value)|\n",
      "+----------+\n",
      "|     49152|\n",
      "+----------+\n",
      "\n"
     ]
    }
   ],
   "source": [
    "df.agg({\"Value\": \"max\"}).show()"
   ]
  },
  {
   "cell_type": "code",
   "execution_count": 104,
   "id": "9cbdc5ac",
   "metadata": {},
   "outputs": [
    {
     "name": "stdout",
     "output_type": "stream",
     "text": [
      "+----------+\n",
      "|State Name|\n",
      "+----------+\n",
      "|        52|\n",
      "+----------+\n",
      "\n"
     ]
    }
   ],
   "source": [
    "from pyspark.sql.functions import countDistinct, avg, stddev, mean\n",
    "df.select(countDistinct(\"State\").alias('State Name')).show()"
   ]
  },
  {
   "cell_type": "code",
   "execution_count": 87,
   "id": "f6a4a589",
   "metadata": {},
   "outputs": [
    {
     "data": {
      "text/plain": [
       "DataFrame[Year: int, State: string, Type: string, Lenght: string, Expense: string, Value: int]"
      ]
     },
     "execution_count": 87,
     "metadata": {},
     "output_type": "execute_result"
    }
   ],
   "source": [
    "df.na.drop(thresh=10)\n",
    "df.na.drop(how=\"any\") # default: any missing values are dropped \n",
    "df.na.drop(subset=['State']) # concider any of this subset to be missing and drop it. \n",
    "df.na.fill(\"FILL VALUE\")"
   ]
  },
  {
   "cell_type": "code",
   "execution_count": 102,
   "id": "83b47d96",
   "metadata": {},
   "outputs": [
    {
     "data": {
      "text/plain": [
       "[Row(avg(Value)=13027.72012401353)]"
      ]
     },
     "execution_count": 102,
     "metadata": {},
     "output_type": "execute_result"
    }
   ],
   "source": [
    "m_value = df.select(avg(df[\"Value\"])).collect()\n",
    "m_value"
   ]
  },
  {
   "cell_type": "code",
   "execution_count": 105,
   "id": "3efddea9",
   "metadata": {},
   "outputs": [
    {
     "data": {
      "text/plain": [
       "[Row(avg(Value)=13027.72012401353)]"
      ]
     },
     "execution_count": 105,
     "metadata": {},
     "output_type": "execute_result"
    }
   ],
   "source": [
    "m_value = df.select(mean(\"Value\")).collect()\n",
    "m_value"
   ]
  },
  {
   "cell_type": "code",
   "execution_count": 114,
   "id": "ab64ab36",
   "metadata": {},
   "outputs": [
    {
     "name": "stdout",
     "output_type": "stream",
     "text": [
      "root\n",
      " |-- Timestamp: string (nullable = true)\n",
      " |-- Date: string (nullable = true)\n",
      " |-- Symbol: string (nullable = true)\n",
      " |-- Open: float (nullable = true)\n",
      " |-- Hight: float (nullable = true)\n",
      " |-- Low: float (nullable = true)\n",
      " |-- Volume: float (nullable = true)\n",
      "\n"
     ]
    }
   ],
   "source": [
    "data_schema = StructType(fields=\n",
    "                         [\n",
    "                             StructField('Timestamp', StringType(), True), \n",
    "                             StructField('Date', StringType(), True), \n",
    "                             StructField('Symbol', StringType(), True),\n",
    "                             StructField('Open', FloatType(), True), \n",
    "                             StructField('Hight', FloatType(), True),\n",
    "                             StructField('Low', FloatType(), True), \n",
    "                             StructField('Volume', FloatType(), True)            \n",
    "                          ]\n",
    "                        )\n",
    "time_df = spark.read.csv(\"data/gemini_BTCUSD_2020_1min.csv\", schema=data_schema)\n",
    "time_df.printSchema()\n"
   ]
  },
  {
   "cell_type": "code",
   "execution_count": 117,
   "id": "0397bede",
   "metadata": {},
   "outputs": [],
   "source": [
    "from pyspark.sql.functions import dayofmonth, dayofyear, hour, month, year, format_number, date_format"
   ]
  },
  {
   "cell_type": "code",
   "execution_count": 115,
   "id": "71504bc8",
   "metadata": {},
   "outputs": [
    {
     "name": "stdout",
     "output_type": "stream",
     "text": [
      "+--------------+---------------+------+--------+--------+--------+--------+\n",
      "|     Timestamp|           Date|Symbol|    Open|   Hight|     Low|  Volume|\n",
      "+--------------+---------------+------+--------+--------+--------+--------+\n",
      "|Unix Timestamp|           Date|Symbol|    null|    null|    null|    null|\n",
      "|   1.61888E+12| 4/20/2021 0:02|BTCUSD|55717.47| 55723.0|55541.69|55541.69|\n",
      "|   1.61888E+12| 4/20/2021 0:01|BTCUSD|55768.94|55849.82|55711.74|55717.47|\n",
      "|   1.61888E+12| 4/20/2021 0:00|BTCUSD|55691.79|55793.15|55691.79|55768.94|\n",
      "|   1.61888E+12|4/19/2021 23:59|BTCUSD|55777.86|55777.86|55677.92|55691.79|\n",
      "|   1.61888E+12|4/19/2021 23:58|BTCUSD| 55803.5|55823.88|55773.08|55777.86|\n",
      "|   1.61888E+12|4/19/2021 23:57|BTCUSD|55690.64|55822.91|55682.56| 55803.5|\n",
      "|   1.61888E+12|4/19/2021 23:56|BTCUSD|55624.69|55713.02|55624.63|55690.64|\n",
      "|   1.61888E+12|4/19/2021 23:55|BTCUSD|55651.82|55675.92|55621.58|55624.69|\n",
      "|   1.61888E+12|4/19/2021 23:54|BTCUSD|55688.08|55730.21| 55641.4|55651.82|\n",
      "|   1.61888E+12|4/19/2021 23:53|BTCUSD|55749.28|55749.28|55688.08|55688.08|\n",
      "|   1.61888E+12|4/19/2021 23:52|BTCUSD|55704.59|55759.27|55695.42|55749.28|\n",
      "|   1.61888E+12|4/19/2021 23:51|BTCUSD|55779.38|55779.38|55688.66|55704.59|\n",
      "|   1.61888E+12|4/19/2021 23:50|BTCUSD|55816.61|55835.57|55769.46|55779.38|\n",
      "|   1.61888E+12|4/19/2021 23:49|BTCUSD|55843.69|55863.89|55797.08|55816.61|\n",
      "|   1.61888E+12|4/19/2021 23:48|BTCUSD|55880.12|55916.47|55815.99|55843.69|\n",
      "|   1.61888E+12|4/19/2021 23:47|BTCUSD|55890.88|55918.87|55826.84|55880.12|\n",
      "|   1.61888E+12|4/19/2021 23:46|BTCUSD|55887.36|55892.99|55861.68|55890.88|\n",
      "|   1.61888E+12|4/19/2021 23:45|BTCUSD|55748.47| 55905.0|55748.47|55887.36|\n",
      "|   1.61888E+12|4/19/2021 23:44|BTCUSD|55859.79|55859.79| 55725.8|55748.47|\n",
      "+--------------+---------------+------+--------+--------+--------+--------+\n",
      "only showing top 20 rows\n",
      "\n"
     ]
    }
   ],
   "source": [
    "time_df.show()"
   ]
  },
  {
   "cell_type": "code",
   "execution_count": 126,
   "id": "f597baef",
   "metadata": {},
   "outputs": [
    {
     "name": "stdout",
     "output_type": "stream",
     "text": [
      "+-----------+\n",
      "|month(Date)|\n",
      "+-----------+\n",
      "|       null|\n",
      "|       null|\n",
      "|       null|\n",
      "|       null|\n",
      "|       null|\n",
      "|       null|\n",
      "|       null|\n",
      "|       null|\n",
      "|       null|\n",
      "|       null|\n",
      "|       null|\n",
      "|       null|\n",
      "|       null|\n",
      "|       null|\n",
      "|       null|\n",
      "|       null|\n",
      "|       null|\n",
      "|       null|\n",
      "|       null|\n",
      "|       null|\n",
      "+-----------+\n",
      "only showing top 20 rows\n",
      "\n"
     ]
    }
   ],
   "source": [
    "time_df.na.drop()\n",
    "time_df.select(month(time_df[\"Date\"])).show()"
   ]
  },
  {
   "cell_type": "code",
   "execution_count": 139,
   "id": "b92bef57",
   "metadata": {},
   "outputs": [
    {
     "name": "stdout",
     "output_type": "stream",
     "text": [
      "+--------------+---------------+------+--------+--------+--------+--------+\n",
      "|     Timestamp|           Date|Symbol|    Open|   Hight|     Low|  Volume|\n",
      "+--------------+---------------+------+--------+--------+--------+--------+\n",
      "|Unix Timestamp|           Date|Symbol|    null|    null|    null|    null|\n",
      "|   1.61888E+12| 4-20-2021 0:02|BTCUSD|55717.47| 55723.0|55541.69|55541.69|\n",
      "|   1.61888E+12| 4-20-2021 0:01|BTCUSD|55768.94|55849.82|55711.74|55717.47|\n",
      "|   1.61888E+12| 4-20-2021 0:00|BTCUSD|55691.79|55793.15|55691.79|55768.94|\n",
      "|   1.61888E+12|4-19-2021 23:59|BTCUSD|55777.86|55777.86|55677.92|55691.79|\n",
      "|   1.61888E+12|4-19-2021 23:58|BTCUSD| 55803.5|55823.88|55773.08|55777.86|\n",
      "|   1.61888E+12|4-19-2021 23:57|BTCUSD|55690.64|55822.91|55682.56| 55803.5|\n",
      "|   1.61888E+12|4-19-2021 23:56|BTCUSD|55624.69|55713.02|55624.63|55690.64|\n",
      "|   1.61888E+12|4-19-2021 23:55|BTCUSD|55651.82|55675.92|55621.58|55624.69|\n",
      "|   1.61888E+12|4-19-2021 23:54|BTCUSD|55688.08|55730.21| 55641.4|55651.82|\n",
      "|   1.61888E+12|4-19-2021 23:53|BTCUSD|55749.28|55749.28|55688.08|55688.08|\n",
      "|   1.61888E+12|4-19-2021 23:52|BTCUSD|55704.59|55759.27|55695.42|55749.28|\n",
      "|   1.61888E+12|4-19-2021 23:51|BTCUSD|55779.38|55779.38|55688.66|55704.59|\n",
      "|   1.61888E+12|4-19-2021 23:50|BTCUSD|55816.61|55835.57|55769.46|55779.38|\n",
      "|   1.61888E+12|4-19-2021 23:49|BTCUSD|55843.69|55863.89|55797.08|55816.61|\n",
      "|   1.61888E+12|4-19-2021 23:48|BTCUSD|55880.12|55916.47|55815.99|55843.69|\n",
      "|   1.61888E+12|4-19-2021 23:47|BTCUSD|55890.88|55918.87|55826.84|55880.12|\n",
      "|   1.61888E+12|4-19-2021 23:46|BTCUSD|55887.36|55892.99|55861.68|55890.88|\n",
      "|   1.61888E+12|4-19-2021 23:45|BTCUSD|55748.47| 55905.0|55748.47|55887.36|\n",
      "|   1.61888E+12|4-19-2021 23:44|BTCUSD|55859.79|55859.79| 55725.8|55748.47|\n",
      "+--------------+---------------+------+--------+--------+--------+--------+\n",
      "only showing top 20 rows\n",
      "\n"
     ]
    }
   ],
   "source": [
    "import re\n",
    "from pyspark.sql.functions import regexp_replace\n",
    "\n",
    "#cols=[re.sub(r'(^_|_$)','',f.replace(\"/\",\"_\")) for f in time_df.columns]\n",
    "#time_df.toDF(*cols).show()\n",
    "time_df.withColumn(\"Date\", regexp_replace(time_df[\"Date\"], \"\\\\/\", \"-\")).show()\n",
    "\n",
    "\n"
   ]
  },
  {
   "cell_type": "code",
   "execution_count": 142,
   "id": "2d435c60",
   "metadata": {},
   "outputs": [
    {
     "name": "stdout",
     "output_type": "stream",
     "text": [
      "+----------+\n",
      "|hour(Date)|\n",
      "+----------+\n",
      "|      null|\n",
      "|      null|\n",
      "|      null|\n",
      "|      null|\n",
      "|      null|\n",
      "|      null|\n",
      "|      null|\n",
      "|      null|\n",
      "|      null|\n",
      "|      null|\n",
      "|      null|\n",
      "|      null|\n",
      "|      null|\n",
      "|      null|\n",
      "|      null|\n",
      "|      null|\n",
      "|      null|\n",
      "|      null|\n",
      "|      null|\n",
      "|      null|\n",
      "+----------+\n",
      "only showing top 20 rows\n",
      "\n"
     ]
    }
   ],
   "source": [
    "time_df.na.drop().select(hour(time_df[\"Date\"])).show()"
   ]
  },
  {
   "cell_type": "code",
   "execution_count": 148,
   "id": "8cc39ac4",
   "metadata": {},
   "outputs": [
    {
     "name": "stdout",
     "output_type": "stream",
     "text": [
      "+--------------+----------+------+--------+--------+--------+--------+-----+----+\n",
      "|     Timestamp|      Date|Symbol|    Open|   Hight|     Low|  Volume|Month|Year|\n",
      "+--------------+----------+------+--------+--------+--------+--------+-----+----+\n",
      "|Unix Timestamp|      null|Symbol|    null|    null|    null|    null| null|null|\n",
      "|   1.61888E+12|2021-04-20|BTCUSD|55717.47| 55723.0|55541.69|55541.69|    4|2021|\n",
      "|   1.61888E+12|2021-04-20|BTCUSD|55768.94|55849.82|55711.74|55717.47|    4|2021|\n",
      "|   1.61888E+12|2021-04-20|BTCUSD|55691.79|55793.15|55691.79|55768.94|    4|2021|\n",
      "|   1.61888E+12|2021-04-19|BTCUSD|55777.86|55777.86|55677.92|55691.79|    4|2021|\n",
      "|   1.61888E+12|2021-04-19|BTCUSD| 55803.5|55823.88|55773.08|55777.86|    4|2021|\n",
      "|   1.61888E+12|2021-04-19|BTCUSD|55690.64|55822.91|55682.56| 55803.5|    4|2021|\n",
      "|   1.61888E+12|2021-04-19|BTCUSD|55624.69|55713.02|55624.63|55690.64|    4|2021|\n",
      "|   1.61888E+12|2021-04-19|BTCUSD|55651.82|55675.92|55621.58|55624.69|    4|2021|\n",
      "|   1.61888E+12|2021-04-19|BTCUSD|55688.08|55730.21| 55641.4|55651.82|    4|2021|\n",
      "|   1.61888E+12|2021-04-19|BTCUSD|55749.28|55749.28|55688.08|55688.08|    4|2021|\n",
      "|   1.61888E+12|2021-04-19|BTCUSD|55704.59|55759.27|55695.42|55749.28|    4|2021|\n",
      "|   1.61888E+12|2021-04-19|BTCUSD|55779.38|55779.38|55688.66|55704.59|    4|2021|\n",
      "|   1.61888E+12|2021-04-19|BTCUSD|55816.61|55835.57|55769.46|55779.38|    4|2021|\n",
      "|   1.61888E+12|2021-04-19|BTCUSD|55843.69|55863.89|55797.08|55816.61|    4|2021|\n",
      "|   1.61888E+12|2021-04-19|BTCUSD|55880.12|55916.47|55815.99|55843.69|    4|2021|\n",
      "|   1.61888E+12|2021-04-19|BTCUSD|55890.88|55918.87|55826.84|55880.12|    4|2021|\n",
      "|   1.61888E+12|2021-04-19|BTCUSD|55887.36|55892.99|55861.68|55890.88|    4|2021|\n",
      "|   1.61888E+12|2021-04-19|BTCUSD|55748.47| 55905.0|55748.47|55887.36|    4|2021|\n",
      "|   1.61888E+12|2021-04-19|BTCUSD|55859.79|55859.79| 55725.8|55748.47|    4|2021|\n",
      "+--------------+----------+------+--------+--------+--------+--------+-----+----+\n",
      "only showing top 20 rows\n",
      "\n",
      "root\n",
      " |-- Timestamp: string (nullable = true)\n",
      " |-- Date: date (nullable = true)\n",
      " |-- Symbol: string (nullable = true)\n",
      " |-- Open: float (nullable = true)\n",
      " |-- Hight: float (nullable = true)\n",
      " |-- Low: float (nullable = true)\n",
      " |-- Volume: float (nullable = true)\n",
      " |-- Month: integer (nullable = true)\n",
      " |-- Year: integer (nullable = true)\n",
      "\n"
     ]
    }
   ],
   "source": [
    "from pyspark.sql.functions import col, to_date\n",
    "\n",
    "#simple regex, watch out for the white space\n",
    "time_df = time_df.withColumn('Date', regexp_replace('Date', '( \\d+:\\d+)', ''))\n",
    "#transform the date-column\n",
    "time_df = time_df.withColumn('Date', to_date(col('Date'), \"M/d/y\")).withColumn('Month', month(col('Date'))).withColumn('Year', year(col('Date')))\n",
    "time_df.show()\n",
    "time_df.printSchema()"
   ]
  },
  {
   "cell_type": "code",
   "execution_count": 149,
   "id": "2e1ad9c4",
   "metadata": {},
   "outputs": [
    {
     "name": "stdout",
     "output_type": "stream",
     "text": [
      "+-----------+\n",
      "|month(Date)|\n",
      "+-----------+\n",
      "|          4|\n",
      "|          4|\n",
      "|          4|\n",
      "|          4|\n",
      "|          4|\n",
      "|          4|\n",
      "|          4|\n",
      "|          4|\n",
      "|          4|\n",
      "|          4|\n",
      "|          4|\n",
      "|          4|\n",
      "|          4|\n",
      "|          4|\n",
      "|          4|\n",
      "|          4|\n",
      "|          4|\n",
      "|          4|\n",
      "|          4|\n",
      "|          4|\n",
      "+-----------+\n",
      "only showing top 20 rows\n",
      "\n"
     ]
    }
   ],
   "source": [
    "time_df.na.drop().select(month(time_df[\"Date\"])).show()"
   ]
  },
  {
   "cell_type": "code",
   "execution_count": 156,
   "id": "1815b53f",
   "metadata": {},
   "outputs": [
    {
     "name": "stdout",
     "output_type": "stream",
     "text": [
      "+----+-----------------+\n",
      "|Year|         avg(Low)|\n",
      "+----+-----------------+\n",
      "|null|             null|\n",
      "|2021|55796.55568181818|\n",
      "+----+-----------------+\n",
      "\n"
     ]
    }
   ],
   "source": [
    "res = time_df.groupBy(\"Year\").mean(\"Low\").show()"
   ]
  },
  {
   "cell_type": "code",
   "execution_count": 163,
   "id": "e06c6a20",
   "metadata": {},
   "outputs": [
    {
     "name": "stdout",
     "output_type": "stream",
     "text": [
      "Row(Timestamp='Unix Timestamp', Date=None, Symbol='Symbol', Open=None, Hight=None, Low=None, Volume=None, Month=None, Year=None)\n",
      "\n",
      "Row(Timestamp='1.61888E+12', Date=datetime.date(2021, 4, 20), Symbol='BTCUSD', Open=55717.46875, Hight=55723.0, Low=55541.69140625, Volume=55541.69140625, Month=4, Year=2021)\n",
      "\n",
      "Row(Timestamp='1.61888E+12', Date=datetime.date(2021, 4, 20), Symbol='BTCUSD', Open=55768.94140625, Hight=55849.8203125, Low=55711.73828125, Volume=55717.46875, Month=4, Year=2021)\n",
      "\n"
     ]
    }
   ],
   "source": [
    "for row in time_df.head(3):\n",
    "    print(f\"{row}\\n\")"
   ]
  },
  {
   "cell_type": "code",
   "execution_count": 172,
   "id": "05d8f267",
   "metadata": {},
   "outputs": [
    {
     "name": "stdout",
     "output_type": "stream",
     "text": [
      "+--------------+--------------------+\n",
      "|     Timestamp|       New Timestamp|\n",
      "+--------------+--------------------+\n",
      "|Unix Timestamp|                null|\n",
      "|   1.61888E+12|1,618,879,971,328.00|\n",
      "|   1.61888E+12|1,618,879,971,328.00|\n",
      "|   1.61888E+12|1,618,879,971,328.00|\n",
      "|   1.61888E+12|1,618,879,971,328.00|\n",
      "|   1.61888E+12|1,618,879,971,328.00|\n",
      "|   1.61888E+12|1,618,879,971,328.00|\n",
      "|   1.61888E+12|1,618,879,971,328.00|\n",
      "|   1.61888E+12|1,618,879,971,328.00|\n",
      "|   1.61888E+12|1,618,879,971,328.00|\n",
      "|   1.61888E+12|1,618,879,971,328.00|\n",
      "|   1.61888E+12|1,618,879,971,328.00|\n",
      "|   1.61888E+12|1,618,879,971,328.00|\n",
      "|   1.61888E+12|1,618,879,971,328.00|\n",
      "|   1.61888E+12|1,618,879,971,328.00|\n",
      "|   1.61888E+12|1,618,879,971,328.00|\n",
      "|   1.61888E+12|1,618,879,971,328.00|\n",
      "|   1.61888E+12|1,618,879,971,328.00|\n",
      "|   1.61888E+12|1,618,879,971,328.00|\n",
      "|   1.61888E+12|1,618,879,971,328.00|\n",
      "+--------------+--------------------+\n",
      "only showing top 20 rows\n",
      "\n"
     ]
    }
   ],
   "source": [
    "from pyspark.sql.functions import format_number\n",
    "result = time_df.select(time_df['Timestamp'], format_number(time_df['Timestamp'].cast('float'), 2).alias(\"New Timestamp\")).show()"
   ]
  },
  {
   "cell_type": "code",
   "execution_count": null,
   "id": "cdc4c558",
   "metadata": {},
   "outputs": [],
   "source": []
  }
 ],
 "metadata": {
  "kernelspec": {
   "display_name": "Python 3 (ipykernel)",
   "language": "python",
   "name": "python3"
  },
  "language_info": {
   "codemirror_mode": {
    "name": "ipython",
    "version": 3
   },
   "file_extension": ".py",
   "mimetype": "text/x-python",
   "name": "python",
   "nbconvert_exporter": "python",
   "pygments_lexer": "ipython3",
   "version": "3.11.1"
  }
 },
 "nbformat": 4,
 "nbformat_minor": 5
}
