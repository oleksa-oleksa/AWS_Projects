{
 "cells": [
  {
   "cell_type": "code",
   "execution_count": 1,
   "id": "f5a0e3e2",
   "metadata": {},
   "outputs": [],
   "source": [
    "from pyspark.sql import SparkSession"
   ]
  },
  {
   "cell_type": "code",
   "execution_count": 3,
   "id": "3d2b7755",
   "metadata": {},
   "outputs": [
    {
     "name": "stdout",
     "output_type": "stream",
     "text": [
      "23/02/10 21:23:12 WARN SparkSession: Using an existing Spark session; only runtime SQL configurations will take effect.\n"
     ]
    }
   ],
   "source": [
    "spark = SparkSession.builder.appName(\"Basics\").getOrCreate()"
   ]
  },
  {
   "cell_type": "code",
   "execution_count": 37,
   "id": "6998e6ac",
   "metadata": {},
   "outputs": [],
   "source": [
    "df = spark.read.csv(\"data/nces330_20.csv\")"
   ]
  },
  {
   "cell_type": "code",
   "execution_count": 38,
   "id": "6718d182",
   "metadata": {},
   "outputs": [
    {
     "name": "stdout",
     "output_type": "stream",
     "text": [
      "root\n",
      " |-- _c0: string (nullable = true)\n",
      " |-- _c1: string (nullable = true)\n",
      " |-- _c2: string (nullable = true)\n",
      " |-- _c3: string (nullable = true)\n",
      " |-- _c4: string (nullable = true)\n",
      " |-- _c5: string (nullable = true)\n",
      "\n"
     ]
    }
   ],
   "source": [
    "df.printSchema()"
   ]
  },
  {
   "cell_type": "code",
   "execution_count": 39,
   "id": "f9f3e214",
   "metadata": {},
   "outputs": [
    {
     "data": {
      "text/plain": [
       "['_c0', '_c1', '_c2', '_c3', '_c4', '_c5']"
      ]
     },
     "execution_count": 39,
     "metadata": {},
     "output_type": "execute_result"
    }
   ],
   "source": [
    "df.columns"
   ]
  },
  {
   "cell_type": "code",
   "execution_count": 40,
   "id": "c4a8b31d",
   "metadata": {},
   "outputs": [
    {
     "name": "stdout",
     "output_type": "stream",
     "text": [
      "+----+-------+-------------------+------+------------+-----+\n",
      "| _c0|    _c1|                _c2|   _c3|         _c4|  _c5|\n",
      "+----+-------+-------------------+------+------------+-----+\n",
      "|Year|  State|               Type|Length|     Expense|Value|\n",
      "|2013|Alabama|            Private|4-year|Fees/Tuition|13983|\n",
      "|2013|Alabama|            Private|4-year|  Room/Board| 8503|\n",
      "|2013|Alabama|    Public In-State|2-year|Fees/Tuition| 4048|\n",
      "|2013|Alabama|    Public In-State|4-year|Fees/Tuition| 8073|\n",
      "|2013|Alabama|    Public In-State|4-year|  Room/Board| 8473|\n",
      "|2013|Alabama|Public Out-of-State|2-year|Fees/Tuition| 7736|\n",
      "|2013|Alabama|Public Out-of-State|4-year|Fees/Tuition|20380|\n",
      "|2013|Alabama|Public Out-of-State|4-year|  Room/Board| 8473|\n",
      "|2013| Alaska|            Private|4-year|Fees/Tuition|21496|\n",
      "|2013| Alaska|            Private|4-year|  Room/Board| 8923|\n",
      "|2013| Alaska|    Public In-State|2-year|Fees/Tuition| 3972|\n",
      "|2013| Alaska|    Public In-State|4-year|Fees/Tuition| 6317|\n",
      "|2013| Alaska|    Public In-State|4-year|  Room/Board| 9098|\n",
      "|2013| Alaska|Public Out-of-State|2-year|Fees/Tuition| 4150|\n",
      "|2013| Alaska|Public Out-of-State|4-year|Fees/Tuition|18790|\n",
      "|2013| Alaska|Public Out-of-State|4-year|  Room/Board| 9098|\n",
      "|2013|Arizona|            Private|4-year|Fees/Tuition|11650|\n",
      "|2013|Arizona|            Private|4-year|  Room/Board| 8744|\n",
      "|2013|Arizona|    Public In-State|2-year|Fees/Tuition| 1842|\n",
      "+----+-------+-------------------+------+------------+-----+\n",
      "only showing top 20 rows\n",
      "\n"
     ]
    }
   ],
   "source": [
    "df.show()"
   ]
  },
  {
   "cell_type": "code",
   "execution_count": 41,
   "id": "f8b1a0d9",
   "metadata": {},
   "outputs": [
    {
     "data": {
      "text/plain": [
       "DataFrame[summary: string, _c0: string, _c1: string, _c2: string, _c3: string, _c4: string, _c5: string]"
      ]
     },
     "execution_count": 41,
     "metadata": {},
     "output_type": "execute_result"
    }
   ],
   "source": [
    "df.describe()"
   ]
  },
  {
   "cell_type": "code",
   "execution_count": 42,
   "id": "d870e3a6",
   "metadata": {},
   "outputs": [],
   "source": [
    "from pyspark.sql.types import (StructField, StringType, IntegerType, StructType, FloatType, LongType)"
   ]
  },
  {
   "cell_type": "code",
   "execution_count": 43,
   "id": "6ac1f99a",
   "metadata": {},
   "outputs": [],
   "source": [
    "data_schema = [StructField('Year', IntegerType(), True), StructField('State', StringType(), True), \n",
    "               StructField('Type', StringType(), True), StructField('Lenght', StringType(), True),\n",
    "               StructField('Expense', StringType(), True), StructField('Value', IntegerType(), True)\n",
    "              ]"
   ]
  },
  {
   "cell_type": "code",
   "execution_count": 44,
   "id": "e63b21c5",
   "metadata": {},
   "outputs": [],
   "source": [
    "final_struct = StructType(fields=data_schema)"
   ]
  },
  {
   "cell_type": "code",
   "execution_count": 45,
   "id": "fb825b52",
   "metadata": {},
   "outputs": [
    {
     "name": "stdout",
     "output_type": "stream",
     "text": [
      "root\n",
      " |-- Year: integer (nullable = true)\n",
      " |-- State: string (nullable = true)\n",
      " |-- Type: string (nullable = true)\n",
      " |-- Lenght: string (nullable = true)\n",
      " |-- Expense: string (nullable = true)\n",
      " |-- Value: integer (nullable = true)\n",
      "\n"
     ]
    }
   ],
   "source": [
    "df = spark.read.csv(\"data/nces330_20.csv\", schema=final_struct)\n",
    "df.printSchema()"
   ]
  },
  {
   "cell_type": "code",
   "execution_count": 46,
   "id": "bc1e356f",
   "metadata": {},
   "outputs": [
    {
     "data": {
      "text/plain": [
       "pyspark.sql.column.Column"
      ]
     },
     "execution_count": 46,
     "metadata": {},
     "output_type": "execute_result"
    }
   ],
   "source": [
    "type(df[\"Year\"])"
   ]
  },
  {
   "cell_type": "code",
   "execution_count": 47,
   "id": "88222041",
   "metadata": {},
   "outputs": [
    {
     "data": {
      "text/plain": [
       "pyspark.sql.dataframe.DataFrame"
      ]
     },
     "execution_count": 47,
     "metadata": {},
     "output_type": "execute_result"
    }
   ],
   "source": [
    "type(df.select(\"Year\"))\n"
   ]
  },
  {
   "cell_type": "code",
   "execution_count": 48,
   "id": "b63b3c8b",
   "metadata": {},
   "outputs": [
    {
     "name": "stdout",
     "output_type": "stream",
     "text": [
      "Row(Year=None, State='State', Type='Type', Lenght='Length', Expense='Expense', Value=None)\n"
     ]
    }
   ],
   "source": [
    "print(df.head(2)[0])"
   ]
  },
  {
   "cell_type": "code",
   "execution_count": 49,
   "id": "04228128",
   "metadata": {},
   "outputs": [
    {
     "data": {
      "text/plain": [
       "DataFrame[Year: int, Value: int]"
      ]
     },
     "execution_count": 49,
     "metadata": {},
     "output_type": "execute_result"
    }
   ],
   "source": [
    "df.select(['Year', 'Value'])"
   ]
  },
  {
   "cell_type": "code",
   "execution_count": 50,
   "id": "e83cc303",
   "metadata": {},
   "outputs": [
    {
     "name": "stdout",
     "output_type": "stream",
     "text": [
      "+----+-------+-------------------+------+------------+-----+------------------+\n",
      "|Year|  State|               Type|Lenght|     Expense|Value|         Price UAH|\n",
      "+----+-------+-------------------+------+------------+-----+------------------+\n",
      "|null|  State|               Type|Length|     Expense| null|              null|\n",
      "|2013|Alabama|            Private|4-year|Fees/Tuition|13983| 562116.6000000001|\n",
      "|2013|Alabama|            Private|4-year|  Room/Board| 8503|341820.60000000003|\n",
      "|2013|Alabama|    Public In-State|2-year|Fees/Tuition| 4048|          162729.6|\n",
      "|2013|Alabama|    Public In-State|4-year|Fees/Tuition| 8073|324534.60000000003|\n",
      "|2013|Alabama|    Public In-State|4-year|  Room/Board| 8473|340614.60000000003|\n",
      "|2013|Alabama|Public Out-of-State|2-year|Fees/Tuition| 7736|          310987.2|\n",
      "|2013|Alabama|Public Out-of-State|4-year|Fees/Tuition|20380|          819276.0|\n",
      "|2013|Alabama|Public Out-of-State|4-year|  Room/Board| 8473|340614.60000000003|\n",
      "|2013| Alaska|            Private|4-year|Fees/Tuition|21496| 864139.2000000001|\n",
      "|2013| Alaska|            Private|4-year|  Room/Board| 8923|358704.60000000003|\n",
      "|2013| Alaska|    Public In-State|2-year|Fees/Tuition| 3972|159674.40000000002|\n",
      "|2013| Alaska|    Public In-State|4-year|Fees/Tuition| 6317|253943.40000000002|\n",
      "|2013| Alaska|    Public In-State|4-year|  Room/Board| 9098|365739.60000000003|\n",
      "|2013| Alaska|Public Out-of-State|2-year|Fees/Tuition| 4150|          166830.0|\n",
      "|2013| Alaska|Public Out-of-State|4-year|Fees/Tuition|18790|          755358.0|\n",
      "|2013| Alaska|Public Out-of-State|4-year|  Room/Board| 9098|365739.60000000003|\n",
      "|2013|Arizona|            Private|4-year|Fees/Tuition|11650|468330.00000000006|\n",
      "|2013|Arizona|            Private|4-year|  Room/Board| 8744|351508.80000000005|\n",
      "|2013|Arizona|    Public In-State|2-year|Fees/Tuition| 1842| 74048.40000000001|\n",
      "+----+-------+-------------------+------+------------+-----+------------------+\n",
      "only showing top 20 rows\n",
      "\n"
     ]
    }
   ],
   "source": [
    "df.withColumn('Price UAH', df['Value']*40.2).show()"
   ]
  },
  {
   "cell_type": "code",
   "execution_count": 54,
   "id": "3af6e907",
   "metadata": {},
   "outputs": [
    {
     "name": "stdout",
     "output_type": "stream",
     "text": [
      "+----+-------+-------------------+------+------------+-----+\n",
      "|Year|  State|               Type|Lenght|     Expense|Value|\n",
      "+----+-------+-------------------+------+------------+-----+\n",
      "|null|  State|               Type|Length|     Expense| null|\n",
      "|2013|Alabama|            Private|4-year|Fees/Tuition|13983|\n",
      "|2013|Alabama|            Private|4-year|  Room/Board| 8503|\n",
      "|2013|Alabama|    Public In-State|2-year|Fees/Tuition| 4048|\n",
      "|2013|Alabama|    Public In-State|4-year|Fees/Tuition| 8073|\n",
      "|2013|Alabama|    Public In-State|4-year|  Room/Board| 8473|\n",
      "|2013|Alabama|Public Out-of-State|2-year|Fees/Tuition| 7736|\n",
      "|2013|Alabama|Public Out-of-State|4-year|Fees/Tuition|20380|\n",
      "|2013|Alabama|Public Out-of-State|4-year|  Room/Board| 8473|\n",
      "|2013| Alaska|            Private|4-year|Fees/Tuition|21496|\n",
      "|2013| Alaska|            Private|4-year|  Room/Board| 8923|\n",
      "|2013| Alaska|    Public In-State|2-year|Fees/Tuition| 3972|\n",
      "|2013| Alaska|    Public In-State|4-year|Fees/Tuition| 6317|\n",
      "|2013| Alaska|    Public In-State|4-year|  Room/Board| 9098|\n",
      "|2013| Alaska|Public Out-of-State|2-year|Fees/Tuition| 4150|\n",
      "|2013| Alaska|Public Out-of-State|4-year|Fees/Tuition|18790|\n",
      "|2013| Alaska|Public Out-of-State|4-year|  Room/Board| 9098|\n",
      "|2013|Arizona|            Private|4-year|Fees/Tuition|11650|\n",
      "|2013|Arizona|            Private|4-year|  Room/Board| 8744|\n",
      "|2013|Arizona|    Public In-State|2-year|Fees/Tuition| 1842|\n",
      "+----+-------+-------------------+------+------------+-----+\n",
      "only showing top 20 rows\n",
      "\n"
     ]
    }
   ],
   "source": [
    "# register DF as a temporary SQL VIEW\n",
    "df.createOrReplaceTempView(\"uni\")\n",
    "results = spark.sql(\"select * from uni\")\n",
    "results.show()"
   ]
  },
  {
   "cell_type": "code",
   "execution_count": 55,
   "id": "63f8fe02",
   "metadata": {},
   "outputs": [
    {
     "name": "stdout",
     "output_type": "stream",
     "text": [
      "+----+------+-------------------+------+------------+-----+\n",
      "|Year| State|               Type|Lenght|     Expense|Value|\n",
      "+----+------+-------------------+------+------------+-----+\n",
      "|2013|Alaska|            Private|4-year|Fees/Tuition|21496|\n",
      "|2014|Alaska|            Private|4-year|Fees/Tuition|20943|\n",
      "|2016|Alaska|Public Out-of-State|4-year|Fees/Tuition|20463|\n",
      "|2017|Alaska|Public Out-of-State|4-year|Fees/Tuition|21431|\n",
      "|2018|Alaska|Public Out-of-State|4-year|Fees/Tuition|21284|\n",
      "|2019|Alaska|Public Out-of-State|4-year|Fees/Tuition|24454|\n",
      "|2020|Alaska|Public Out-of-State|4-year|Fees/Tuition|26767|\n",
      "|2021|Alaska|Public Out-of-State|4-year|Fees/Tuition|25535|\n",
      "+----+------+-------------------+------+------------+-----+\n",
      "\n"
     ]
    }
   ],
   "source": [
    "results = spark.sql(\"select * from uni where Value>20000 and State='Alaska'\")\n",
    "results.show()\n"
   ]
  },
  {
   "cell_type": "code",
   "execution_count": 64,
   "id": "7545b01d",
   "metadata": {},
   "outputs": [
    {
     "name": "stdout",
     "output_type": "stream",
     "text": [
      "+----+--------------------+-----+\n",
      "|Year|               State|Value|\n",
      "+----+--------------------+-----+\n",
      "|2013|             Alabama|20380|\n",
      "|2013|              Alaska|21496|\n",
      "|2013|             Arizona|21201|\n",
      "|2013|          California|28345|\n",
      "|2013|          California|30765|\n",
      "|2013|            Colorado|25470|\n",
      "|2013|         Connecticut|35336|\n",
      "|2013|         Connecticut|26688|\n",
      "|2013|            Delaware|26228|\n",
      "|2013|District of Columbia|35524|\n",
      "|2013|             Florida|20155|\n",
      "|2013|             Georgia|22456|\n",
      "|2013|             Georgia|22393|\n",
      "|2013|              Hawaii|23614|\n",
      "|2013|            Illinois|26299|\n",
      "|2013|            Illinois|26873|\n",
      "|2013|             Indiana|26794|\n",
      "|2013|             Indiana|26538|\n",
      "|2013|                Iowa|23019|\n",
      "|2013|              Kansas|20852|\n",
      "+----+--------------------+-----+\n",
      "only showing top 20 rows\n",
      "\n"
     ]
    }
   ],
   "source": [
    "df.filter(\"Value > 20000\").select(['Year', 'State', 'Value']).show()"
   ]
  },
  {
   "cell_type": "code",
   "execution_count": 69,
   "id": "a19f34ef",
   "metadata": {},
   "outputs": [
    {
     "name": "stdout",
     "output_type": "stream",
     "text": [
      "+----+--------------------+-----+\n",
      "|Year|               State|Value|\n",
      "+----+--------------------+-----+\n",
      "|2013|             Alabama|20380|\n",
      "|2013|             Arizona|21201|\n",
      "|2013|          California|28345|\n",
      "|2013|          California|30765|\n",
      "|2013|            Colorado|25470|\n",
      "|2013|         Connecticut|35336|\n",
      "|2013|         Connecticut|26688|\n",
      "|2013|            Delaware|26228|\n",
      "|2013|District of Columbia|35524|\n",
      "|2013|             Florida|20155|\n",
      "|2013|             Georgia|22456|\n",
      "|2013|             Georgia|22393|\n",
      "|2013|              Hawaii|23614|\n",
      "|2013|            Illinois|26299|\n",
      "|2013|            Illinois|26873|\n",
      "|2013|             Indiana|26794|\n",
      "|2013|             Indiana|26538|\n",
      "|2013|                Iowa|23019|\n",
      "|2013|              Kansas|20852|\n",
      "|2013|            Kentucky|20639|\n",
      "+----+--------------------+-----+\n",
      "only showing top 20 rows\n",
      "\n"
     ]
    }
   ],
   "source": [
    "df.filter((df[\"Value\"] > 20000) & ~(df[\"State\"] == \"Alaska\")).select(['Year', 'State', 'Value']).show()"
   ]
  },
  {
   "cell_type": "code",
   "execution_count": 71,
   "id": "99038b25",
   "metadata": {},
   "outputs": [
    {
     "data": {
      "text/plain": [
       "<pyspark.sql.group.GroupedData at 0x1090e7810>"
      ]
     },
     "execution_count": 71,
     "metadata": {},
     "output_type": "execute_result"
    }
   ],
   "source": [
    "df.groupBy(\"State\")"
   ]
  },
  {
   "cell_type": "code",
   "execution_count": 73,
   "id": "02261181",
   "metadata": {},
   "outputs": [
    {
     "name": "stdout",
     "output_type": "stream",
     "text": [
      "+--------------------+------------------+\n",
      "|               State|        avg(Value)|\n",
      "+--------------------+------------------+\n",
      "|                Utah| 8918.549295774648|\n",
      "|              Hawaii| 12524.30985915493|\n",
      "|           Minnesota|12642.295774647888|\n",
      "|                Ohio|13620.802816901409|\n",
      "|            Arkansas| 10233.81690140845|\n",
      "|              Oregon| 15533.43661971831|\n",
      "|               Texas| 12596.38028169014|\n",
      "|        North Dakota|  9227.74647887324|\n",
      "|        Pennsylvania|16368.957746478873|\n",
      "|         Connecticut|17435.211267605635|\n",
      "|            Nebraska| 10701.81690140845|\n",
      "|             Vermont| 18596.49295774648|\n",
      "|              Nevada|           12710.6|\n",
      "|               State|              null|\n",
      "|          Washington|14730.028169014084|\n",
      "|            Illinois|15167.633802816901|\n",
      "|            Oklahoma|11215.225352112677|\n",
      "|District of Columbia|           18880.2|\n",
      "|            Delaware|13834.622950819672|\n",
      "|              Alaska|11629.174603174602|\n",
      "+--------------------+------------------+\n",
      "only showing top 20 rows\n",
      "\n"
     ]
    }
   ],
   "source": [
    "df.groupBy(\"State\").mean(\"Value\").show()"
   ]
  },
  {
   "cell_type": "code",
   "execution_count": 80,
   "id": "0c1409c1",
   "metadata": {},
   "outputs": [
    {
     "name": "stdout",
     "output_type": "stream",
     "text": [
      "+----------+\n",
      "|max(Value)|\n",
      "+----------+\n",
      "|     49152|\n",
      "+----------+\n",
      "\n"
     ]
    }
   ],
   "source": [
    "df.agg({\"Value\": \"max\"}).show()"
   ]
  },
  {
   "cell_type": "code",
   "execution_count": 104,
   "id": "713168d7",
   "metadata": {},
   "outputs": [
    {
     "name": "stdout",
     "output_type": "stream",
     "text": [
      "+----------+\n",
      "|State Name|\n",
      "+----------+\n",
      "|        52|\n",
      "+----------+\n",
      "\n"
     ]
    }
   ],
   "source": [
    "from pyspark.sql.functions import countDistinct, avg, stddev, mean\n",
    "df.select(countDistinct(\"State\").alias('State Name')).show()"
   ]
  },
  {
   "cell_type": "code",
   "execution_count": 87,
   "id": "541c5a1c",
   "metadata": {},
   "outputs": [
    {
     "data": {
      "text/plain": [
       "DataFrame[Year: int, State: string, Type: string, Lenght: string, Expense: string, Value: int]"
      ]
     },
     "execution_count": 87,
     "metadata": {},
     "output_type": "execute_result"
    }
   ],
   "source": [
    "df.na.drop(thresh=10)\n",
    "df.na.drop(how=\"any\") # default: any missing values are dropped \n",
    "df.na.drop(subset=['State']) # concider any of this subset to be missing and drop it. \n",
    "df.na.fill(\"FILL VALUE\")"
   ]
  },
  {
   "cell_type": "code",
   "execution_count": 102,
   "id": "216c4b7e",
   "metadata": {},
   "outputs": [
    {
     "data": {
      "text/plain": [
       "[Row(avg(Value)=13027.72012401353)]"
      ]
     },
     "execution_count": 102,
     "metadata": {},
     "output_type": "execute_result"
    }
   ],
   "source": [
    "m_value = df.select(avg(df[\"Value\"])).collect()\n",
    "m_value"
   ]
  },
  {
   "cell_type": "code",
   "execution_count": 105,
   "id": "2321b2bd",
   "metadata": {},
   "outputs": [
    {
     "data": {
      "text/plain": [
       "[Row(avg(Value)=13027.72012401353)]"
      ]
     },
     "execution_count": 105,
     "metadata": {},
     "output_type": "execute_result"
    }
   ],
   "source": [
    "m_value = df.select(mean(\"Value\")).collect()\n",
    "m_value"
   ]
  },
  {
   "cell_type": "code",
   "execution_count": 108,
   "id": "d35e2b78",
   "metadata": {},
   "outputs": [
    {
     "name": "stdout",
     "output_type": "stream",
     "text": [
      "root\n",
      " |-- _c0: string (nullable = true)\n",
      " |-- _c1: string (nullable = true)\n",
      " |-- _c2: string (nullable = true)\n",
      " |-- _c3: string (nullable = true)\n",
      " |-- _c4: string (nullable = true)\n",
      " |-- _c5: string (nullable = true)\n",
      " |-- _c6: string (nullable = true)\n",
      " |-- _c7: string (nullable = true)\n",
      "\n"
     ]
    }
   ],
   "source": [
    "data_schema = [StructField('Year', IntegerType(), True), StructField('State', StringType(), True), \n",
    "               StructField('Type', StringType(), True), StructField('Lenght', StringType(), True),\n",
    "               StructField('Expense', StringType(), True), StructField('Value', IntegerType(), True)\n",
    "              ]\n",
    "time_df = spark.read.csv(\"data/gemini_BTCUSD_2020_1min.csv\")\n",
    "time_df.printSchema()\n"
   ]
  },
  {
   "cell_type": "code",
   "execution_count": null,
   "id": "aaa79d61",
   "metadata": {},
   "outputs": [],
   "source": []
  }
 ],
 "metadata": {
  "kernelspec": {
   "display_name": "Python 3 (ipykernel)",
   "language": "python",
   "name": "python3"
  },
  "language_info": {
   "codemirror_mode": {
    "name": "ipython",
    "version": 3
   },
   "file_extension": ".py",
   "mimetype": "text/x-python",
   "name": "python",
   "nbconvert_exporter": "python",
   "pygments_lexer": "ipython3",
   "version": "3.11.1"
  }
 },
 "nbformat": 4,
 "nbformat_minor": 5
}
