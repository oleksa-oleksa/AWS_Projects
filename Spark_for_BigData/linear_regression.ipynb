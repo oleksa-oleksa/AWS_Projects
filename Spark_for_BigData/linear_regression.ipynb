{
 "cells": [
  {
   "cell_type": "code",
   "execution_count": 51,
   "id": "180c96b6",
   "metadata": {},
   "outputs": [],
   "source": [
    "from pyspark.sql import SparkSession\n",
    "from pyspark.sql.functions import format_number\n",
    "\n",
    "spark = SparkSession.builder.appName(\"LinReg\").getOrCreate()"
   ]
  },
  {
   "cell_type": "code",
   "execution_count": 6,
   "id": "8b6c7523",
   "metadata": {},
   "outputs": [],
   "source": [
    "from pyspark.ml.regression import LinearRegression"
   ]
  },
  {
   "cell_type": "code",
   "execution_count": 4,
   "id": "143af2e1",
   "metadata": {},
   "outputs": [
    {
     "name": "stdout",
     "output_type": "stream",
     "text": [
      "23/02/13 14:46:37 WARN LibSVMFileFormat: 'numFeatures' option not specified, determining the number of features by going though the input. If you know the number in advance, please specify it via 'numFeatures' option to avoid the extra scan.\n",
      "+------+--------------------+\n",
      "| label|            features|\n",
      "+------+--------------------+\n",
      "|1.0708|(14,[0,1,2,3,4,5,...|\n",
      "|1.0853|(14,[0,1,2,3,4,5,...|\n",
      "|1.0414|(14,[0,1,2,3,4,5,...|\n",
      "|1.0751|(14,[0,1,2,3,4,5,...|\n",
      "| 1.034|(14,[0,1,2,3,4,5,...|\n",
      "|1.0502|(14,[0,1,2,3,4,5,...|\n",
      "|1.0549|(14,[0,1,2,3,4,5,...|\n",
      "|1.0704|(14,[0,1,2,3,4,5,...|\n",
      "|  1.09|(14,[0,1,2,3,4,5,...|\n",
      "|1.0722|(14,[0,1,2,3,4,5,...|\n",
      "| 1.083|(14,[0,1,2,3,4,5,...|\n",
      "|1.0812|(14,[0,1,2,3,4,5,...|\n",
      "|1.0513|(14,[0,1,2,3,4,5,...|\n",
      "|1.0505|(14,[0,1,2,3,4,5,...|\n",
      "|1.0484|(14,[0,1,2,3,4,5,...|\n",
      "|1.0512|(14,[0,1,2,3,4,5,...|\n",
      "|1.0333|(14,[0,1,2,3,4,5,...|\n",
      "|1.0468|(14,[0,1,2,3,4,5,...|\n",
      "|1.0622|(14,[0,1,2,3,4,5,...|\n",
      "| 1.061|(14,[0,1,2,3,4,5,...|\n",
      "+------+--------------------+\n",
      "only showing top 20 rows\n",
      "\n"
     ]
    }
   ],
   "source": [
    "df = spark.read.format('libsvm').load(\"data/bodyfat.txt\")\n",
    "df.show()"
   ]
  },
  {
   "cell_type": "code",
   "execution_count": 7,
   "id": "9a95683b",
   "metadata": {},
   "outputs": [
    {
     "name": "stdout",
     "output_type": "stream",
     "text": [
      "23/02/13 14:51:50 WARN Instrumentation: [6133500b] regParam is zero, which might cause numerical instability and overfitting.\n",
      "23/02/13 14:51:50 WARN InstanceBuilder$NativeLAPACK: Failed to load implementation from:dev.ludovic.netlib.lapack.JNILAPACK\n"
     ]
    }
   ],
   "source": [
    "lr = LinearRegression(featuresCol='features', labelCol='label', predictionCol='prediction')\n",
    "lr_model = lr.fit(df)"
   ]
  },
  {
   "cell_type": "code",
   "execution_count": 8,
   "id": "bcc0e272",
   "metadata": {},
   "outputs": [
    {
     "data": {
      "text/plain": [
       "DenseVector([-0.0022, 0.0, 0.0, -0.0, 0.0, 0.0001, -0.0002, 0.0001, -0.0001, -0.0, -0.0002, -0.0002, -0.0, 0.0004])"
      ]
     },
     "execution_count": 8,
     "metadata": {},
     "output_type": "execute_result"
    }
   ],
   "source": [
    "lr_model.coefficients"
   ]
  },
  {
   "cell_type": "code",
   "execution_count": 9,
   "id": "7951f9e3",
   "metadata": {},
   "outputs": [
    {
     "data": {
      "text/plain": [
       "1.0981463302283172"
      ]
     },
     "execution_count": 9,
     "metadata": {},
     "output_type": "execute_result"
    }
   ],
   "source": [
    "lr_model.intercept"
   ]
  },
  {
   "cell_type": "code",
   "execution_count": 10,
   "id": "b12169e7",
   "metadata": {},
   "outputs": [],
   "source": [
    "train, test = df.randomSplit([0.7, 0.3])"
   ]
  },
  {
   "cell_type": "code",
   "execution_count": 11,
   "id": "f190e7d1",
   "metadata": {},
   "outputs": [
    {
     "name": "stdout",
     "output_type": "stream",
     "text": [
      "23/02/13 14:56:17 WARN Instrumentation: [c4a23d4d] regParam is zero, which might cause numerical instability and overfitting.\n"
     ]
    }
   ],
   "source": [
    "lr_model = lr.fit(train)"
   ]
  },
  {
   "cell_type": "code",
   "execution_count": 18,
   "id": "b3f5c533",
   "metadata": {},
   "outputs": [],
   "source": [
    "test_results = lr_model.evaluate(test)"
   ]
  },
  {
   "cell_type": "code",
   "execution_count": 13,
   "id": "542d2992",
   "metadata": {},
   "outputs": [
    {
     "data": {
      "text/plain": [
       "0.004955289095027164"
      ]
     },
     "execution_count": 13,
     "metadata": {},
     "output_type": "execute_result"
    }
   ],
   "source": [
    "test_results.rootMeanSquaredError"
   ]
  },
  {
   "cell_type": "code",
   "execution_count": 15,
   "id": "2fa9204e",
   "metadata": {},
   "outputs": [],
   "source": [
    "unlabeled_data = test.select('features')"
   ]
  },
  {
   "cell_type": "code",
   "execution_count": 16,
   "id": "91b0bb42",
   "metadata": {},
   "outputs": [
    {
     "name": "stdout",
     "output_type": "stream",
     "text": [
      "+--------------------+------------------+\n",
      "|            features|        prediction|\n",
      "+--------------------+------------------+\n",
      "|(14,[0,1,2,3,4,5,...|  1.00826973518771|\n",
      "|(14,[0,1,2,3,4,5,...| 1.020167641810168|\n",
      "|(14,[0,1,2,3,4,5,...|1.0253768505578704|\n",
      "|(14,[0,1,2,3,4,5,...|1.0265532108129278|\n",
      "|(14,[0,1,2,3,4,5,...| 1.027210884332204|\n",
      "|(14,[0,1,2,3,4,5,...|1.0270229682287173|\n",
      "|(14,[0,1,2,3,4,5,...|1.0285355399346798|\n",
      "|(14,[0,1,2,3,4,5,...|1.0302070498329485|\n",
      "|(14,[0,1,2,3,4,5,...|1.0314249809154912|\n",
      "|(14,[0,1,2,3,4,5,...|1.0313546073923379|\n",
      "|(14,[0,1,2,3,4,5,...|1.0370764500660496|\n",
      "|(14,[0,1,2,3,4,5,...|1.0385204709025855|\n",
      "|(14,[0,1,2,3,4,5,...|1.0390197117424678|\n",
      "|(14,[0,1,2,3,4,5,...|1.0402402882397581|\n",
      "|(14,[0,1,2,3,4,5,...|1.0416181633948498|\n",
      "|(14,[0,1,2,3,4,5,...|1.0427221778036426|\n",
      "|(14,[0,1,2,3,4,5,...|1.0442142852870713|\n",
      "|(14,[0,1,2,3,4,5,...|1.0440840392938042|\n",
      "|(14,[0,1,2,3,4,5,...|  1.04482570471748|\n",
      "|(14,[0,1,2,3,4,5,...|1.0464583634207476|\n",
      "+--------------------+------------------+\n",
      "only showing top 20 rows\n",
      "\n"
     ]
    }
   ],
   "source": [
    "predictions = lr_model.transform(unlabeled_data)\n",
    "predictions.show()"
   ]
  },
  {
   "cell_type": "code",
   "execution_count": 44,
   "id": "560192bf",
   "metadata": {},
   "outputs": [],
   "source": [
    "# ======================="
   ]
  },
  {
   "cell_type": "code",
   "execution_count": 26,
   "id": "05902c66",
   "metadata": {},
   "outputs": [
    {
     "name": "stdout",
     "output_type": "stream",
     "text": [
      "+-----------+-----------+---+------------------+----------+------+------+-----------------+----+\n",
      "|  Ship_name|Cruise_line|Age|           Tonnage|passengers|length|cabins|passenger_density|crew|\n",
      "+-----------+-----------+---+------------------+----------+------+------+-----------------+----+\n",
      "|    Journey|    Azamara|  6|30.276999999999997|      6.94|  5.94|  3.55|            42.64|3.55|\n",
      "|      Quest|    Azamara|  6|30.276999999999997|      6.94|  5.94|  3.55|            42.64|3.55|\n",
      "|Celebration|   Carnival| 26|            47.262|     14.86|  7.22|  7.43|             31.8| 6.7|\n",
      "|   Conquest|   Carnival| 11|             110.0|     29.74|  9.53| 14.88|            36.99|19.1|\n",
      "|    Destiny|   Carnival| 17|           101.353|     26.42|  8.92| 13.21|            38.36|10.0|\n",
      "|    Ecstasy|   Carnival| 22|            70.367|     20.52|  8.55|  10.2|            34.29| 9.2|\n",
      "|    Elation|   Carnival| 15|            70.367|     20.52|  8.55|  10.2|            34.29| 9.2|\n",
      "|    Fantasy|   Carnival| 23|            70.367|     20.56|  8.55| 10.22|            34.23| 9.2|\n",
      "|Fascination|   Carnival| 19|            70.367|     20.52|  8.55|  10.2|            34.29| 9.2|\n",
      "|    Freedom|   Carnival|  6|110.23899999999999|      37.0|  9.51| 14.87|            29.79|11.5|\n",
      "|      Glory|   Carnival| 10|             110.0|     29.74|  9.51| 14.87|            36.99|11.6|\n",
      "|    Holiday|   Carnival| 28|            46.052|     14.52|  7.27|  7.26|            31.72| 6.6|\n",
      "|Imagination|   Carnival| 18|            70.367|     20.52|  8.55|  10.2|            34.29| 9.2|\n",
      "|Inspiration|   Carnival| 17|            70.367|     20.52|  8.55|  10.2|            34.29| 9.2|\n",
      "|     Legend|   Carnival| 11|              86.0|     21.24|  9.63| 10.62|            40.49| 9.3|\n",
      "|   Liberty*|   Carnival|  8|             110.0|     29.74|  9.51| 14.87|            36.99|11.6|\n",
      "|    Miracle|   Carnival|  9|              88.5|     21.24|  9.63| 10.62|            41.67|10.3|\n",
      "|   Paradise|   Carnival| 15|            70.367|     20.52|  8.55|  10.2|            34.29| 9.2|\n",
      "|      Pride|   Carnival| 12|              88.5|     21.24|  9.63| 11.62|            41.67| 9.3|\n",
      "|  Sensation|   Carnival| 20|            70.367|     20.52|  8.55|  10.2|            34.29| 9.2|\n",
      "+-----------+-----------+---+------------------+----------+------+------+-----------------+----+\n",
      "only showing top 20 rows\n",
      "\n"
     ]
    }
   ],
   "source": [
    "df = spark.read.format('csv').option(\"header\", 'true').load(\"data/cruise_ship_info.csv\")\n",
    "df.show()"
   ]
  },
  {
   "cell_type": "code",
   "execution_count": 27,
   "id": "822807e1",
   "metadata": {},
   "outputs": [
    {
     "name": "stdout",
     "output_type": "stream",
     "text": [
      "+-----------------+-----+\n",
      "|      Cruise_line|count|\n",
      "+-----------------+-----+\n",
      "|            Costa|   11|\n",
      "|              P&O|    6|\n",
      "|           Cunard|    3|\n",
      "|Regent_Seven_Seas|    5|\n",
      "|              MSC|    8|\n",
      "|         Carnival|   22|\n",
      "|          Crystal|    2|\n",
      "|           Orient|    1|\n",
      "|         Princess|   17|\n",
      "|        Silversea|    4|\n",
      "|         Seabourn|    3|\n",
      "| Holland_American|   14|\n",
      "|         Windstar|    3|\n",
      "|           Disney|    2|\n",
      "|        Norwegian|   13|\n",
      "|          Oceania|    3|\n",
      "|          Azamara|    2|\n",
      "|        Celebrity|   10|\n",
      "|             Star|    6|\n",
      "|  Royal_Caribbean|   23|\n",
      "+-----------------+-----+\n",
      "\n"
     ]
    }
   ],
   "source": [
    "df.groupBy(\"Cruise_line\").count().show()"
   ]
  },
  {
   "cell_type": "code",
   "execution_count": 34,
   "id": "360dc5bf",
   "metadata": {},
   "outputs": [
    {
     "data": {
      "text/plain": [
       "[Row(Ship_name='Journey', Cruise_line='Azamara', Age='6', Tonnage='30.276999999999997', passengers='6.94', length='5.94', cabins='3.55', passenger_density='42.64', crew='3.55', Cruise_line_cat=16.0),\n",
       " Row(Ship_name='Quest', Cruise_line='Azamara', Age='6', Tonnage='30.276999999999997', passengers='6.94', length='5.94', cabins='3.55', passenger_density='42.64', crew='3.55', Cruise_line_cat=16.0),\n",
       " Row(Ship_name='Celebration', Cruise_line='Carnival', Age='26', Tonnage='47.262', passengers='14.86', length='7.22', cabins='7.43', passenger_density='31.8', crew='6.7', Cruise_line_cat=1.0)]"
      ]
     },
     "execution_count": 34,
     "metadata": {},
     "output_type": "execute_result"
    }
   ],
   "source": [
    "from pyspark.ml.feature import StringIndexer\n",
    "indexer = StringIndexer(inputCol=\"Cruise_line\", outputCol=\"Cruise_line_cat\")\n",
    "indexed = indexer.fit(df).transform(df)\n",
    "indexed.head(3)"
   ]
  },
  {
   "cell_type": "code",
   "execution_count": 31,
   "id": "861f7be7",
   "metadata": {},
   "outputs": [],
   "source": [
    "from pyspark.ml.linalg import Vectors\n",
    "from pyspark.ml.feature import VectorAssembler\n"
   ]
  },
  {
   "cell_type": "code",
   "execution_count": 35,
   "id": "5c1cc119",
   "metadata": {},
   "outputs": [
    {
     "data": {
      "text/plain": [
       "['Ship_name',\n",
       " 'Cruise_line',\n",
       " 'Age',\n",
       " 'Tonnage',\n",
       " 'passengers',\n",
       " 'length',\n",
       " 'cabins',\n",
       " 'passenger_density',\n",
       " 'crew',\n",
       " 'Cruise_line_cat']"
      ]
     },
     "execution_count": 35,
     "metadata": {},
     "output_type": "execute_result"
    }
   ],
   "source": [
    "indexed.columns"
   ]
  },
  {
   "cell_type": "code",
   "execution_count": 74,
   "id": "bbb83212",
   "metadata": {},
   "outputs": [
    {
     "name": "stdout",
     "output_type": "stream",
     "text": [
      "[('Ship_name', 'string'), ('Cruise_line', 'string'), ('Age', 'int'), ('Tonnage', 'double'), ('passengers', 'double'), ('length', 'double'), ('cabins', 'double'), ('passenger_density', 'double'), ('crew', 'double'), ('Cruise_line_cat', 'double')]\n",
      "[('Ship_name', 'string'), ('Cruise_line', 'string'), ('Age', 'int'), ('Tonnage', 'double'), ('passengers', 'double'), ('length', 'double'), ('cabins', 'double'), ('passenger_density', 'double'), ('crew', 'double'), ('Cruise_line_cat', 'double')]\n"
     ]
    }
   ],
   "source": [
    "from pyspark.sql.functions import col\n",
    "\n",
    "assembler = VectorAssembler(inputCols=['Age', 'Tonnage', 'passengers', 'length', \n",
    "                                       'cabins', 'passenger_density', 'Cruise_line_cat'], \n",
    "                            outputCol='features')\n",
    "\n",
    "print(indexed.dtypes)\n",
    "indexed = indexed.withColumn(\"Age\", col(\"Age\").cast(\"integer\"))\n",
    "indexed = indexed.withColumn(\"Tonnage\", col(\"Tonnage\").cast(\"double\"))\n",
    "indexed = indexed.withColumn(\"passengers\", col(\"passengers\").cast(\"double\"))\n",
    "indexed = indexed.withColumn(\"length\", col(\"length\").cast(\"double\"))\n",
    "indexed = indexed.withColumn(\"cabins\", col(\"cabins\").cast(\"double\"))\n",
    "indexed = indexed.withColumn(\"passenger_density\", col(\"passenger_density\").cast(\"double\"))\n",
    "indexed = indexed.withColumn(\"crew\", col(\"crew\").cast(\"double\"))\n",
    "\n",
    "\n",
    "print(indexed.dtypes)\n"
   ]
  },
  {
   "cell_type": "code",
   "execution_count": 75,
   "id": "9e7dbfcc",
   "metadata": {},
   "outputs": [],
   "source": [
    "output = assembler.transform(indexed)"
   ]
  },
  {
   "cell_type": "code",
   "execution_count": 76,
   "id": "e91a5288",
   "metadata": {},
   "outputs": [
    {
     "name": "stdout",
     "output_type": "stream",
     "text": [
      "+--------------------+----+\n",
      "|            features|crew|\n",
      "+--------------------+----+\n",
      "|[6.0,30.276999999...|3.55|\n",
      "|[6.0,30.276999999...|3.55|\n",
      "|[26.0,47.262,14.8...| 6.7|\n",
      "|[11.0,110.0,29.74...|19.1|\n",
      "|[17.0,101.353,26....|10.0|\n",
      "|[22.0,70.367,20.5...| 9.2|\n",
      "|[15.0,70.367,20.5...| 9.2|\n",
      "|[23.0,70.367,20.5...| 9.2|\n",
      "|[19.0,70.367,20.5...| 9.2|\n",
      "|[6.0,110.23899999...|11.5|\n",
      "|[10.0,110.0,29.74...|11.6|\n",
      "|[28.0,46.052,14.5...| 6.6|\n",
      "|[18.0,70.367,20.5...| 9.2|\n",
      "|[17.0,70.367,20.5...| 9.2|\n",
      "|[11.0,86.0,21.24,...| 9.3|\n",
      "|[8.0,110.0,29.74,...|11.6|\n",
      "|[9.0,88.5,21.24,9...|10.3|\n",
      "|[15.0,70.367,20.5...| 9.2|\n",
      "|[12.0,88.5,21.24,...| 9.3|\n",
      "|[20.0,70.367,20.5...| 9.2|\n",
      "+--------------------+----+\n",
      "only showing top 20 rows\n",
      "\n"
     ]
    }
   ],
   "source": [
    "output.select('features', 'crew').show()"
   ]
  },
  {
   "cell_type": "code",
   "execution_count": 83,
   "id": "b4916702",
   "metadata": {},
   "outputs": [
    {
     "name": "stdout",
     "output_type": "stream",
     "text": [
      "+-------+-----------------+\n",
      "|summary|             crew|\n",
      "+-------+-----------------+\n",
      "|  count|              114|\n",
      "|   mean| 7.99359649122808|\n",
      "| stddev|3.701205287349327|\n",
      "|    min|             0.59|\n",
      "|    max|             21.0|\n",
      "+-------+-----------------+\n",
      "\n"
     ]
    }
   ],
   "source": [
    "final_data = output.select(['features', 'crew'])\n",
    "train, test = final_data.randomSplit([0.7, 0.3])\n",
    "train.describe().show()"
   ]
  },
  {
   "cell_type": "code",
   "execution_count": 84,
   "id": "cdfaacdd",
   "metadata": {},
   "outputs": [
    {
     "name": "stdout",
     "output_type": "stream",
     "text": [
      "+-------+-----------------+\n",
      "|summary|             crew|\n",
      "+-------+-----------------+\n",
      "|  count|               44|\n",
      "|   mean|           7.2775|\n",
      "| stddev|2.904791650856171|\n",
      "|    min|             0.59|\n",
      "|    max|             13.6|\n",
      "+-------+-----------------+\n",
      "\n"
     ]
    }
   ],
   "source": [
    "test.describe().show()"
   ]
  },
  {
   "cell_type": "code",
   "execution_count": 85,
   "id": "57a4d21e",
   "metadata": {},
   "outputs": [
    {
     "name": "stdout",
     "output_type": "stream",
     "text": [
      "23/02/13 16:21:07 WARN Instrumentation: [aa997ef1] regParam is zero, which might cause numerical instability and overfitting.\n"
     ]
    }
   ],
   "source": [
    "lr_shp = LinearRegression(labelCol=\"crew\")\n",
    "trained_lr_shp = lr_shp.fit(train)"
   ]
  },
  {
   "cell_type": "code",
   "execution_count": 86,
   "id": "a2926ede",
   "metadata": {},
   "outputs": [
    {
     "data": {
      "text/plain": [
       "0.6026843083370094"
      ]
     },
     "execution_count": 86,
     "metadata": {},
     "output_type": "execute_result"
    }
   ],
   "source": [
    "ship_results = trained_lr_shp.evaluate(test)\n",
    "ship_results.rootMeanSquaredError"
   ]
  },
  {
   "cell_type": "code",
   "execution_count": null,
   "id": "6030d25c",
   "metadata": {},
   "outputs": [],
   "source": []
  }
 ],
 "metadata": {
  "kernelspec": {
   "display_name": "Python 3 (ipykernel)",
   "language": "python",
   "name": "python3"
  },
  "language_info": {
   "codemirror_mode": {
    "name": "ipython",
    "version": 3
   },
   "file_extension": ".py",
   "mimetype": "text/x-python",
   "name": "python",
   "nbconvert_exporter": "python",
   "pygments_lexer": "ipython3",
   "version": "3.11.1"
  }
 },
 "nbformat": 4,
 "nbformat_minor": 5
}
