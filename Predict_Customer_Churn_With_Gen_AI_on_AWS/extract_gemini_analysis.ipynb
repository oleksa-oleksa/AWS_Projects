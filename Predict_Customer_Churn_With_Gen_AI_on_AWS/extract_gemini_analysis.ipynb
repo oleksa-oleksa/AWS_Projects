{
 "cells": [
  {
   "cell_type": "code",
   "execution_count": 13,
   "id": "06b33e34-e8d4-43ed-b11e-3dfd6ebdfbb2",
   "metadata": {
    "tags": []
   },
   "outputs": [
    {
     "name": "stdout",
     "output_type": "stream",
     "text": [
      "Requirement already satisfied: google-cloud-aiplatform in /opt/conda/lib/python3.10/site-packages (1.75.0)\n",
      "Requirement already satisfied: google-cloud-bigquery in /opt/conda/lib/python3.10/site-packages (3.25.0)\n",
      "Requirement already satisfied: pandas in /opt/conda/lib/python3.10/site-packages (2.2.3)\n",
      "Requirement already satisfied: google-genai in /opt/conda/lib/python3.10/site-packages (1.2.0)\n",
      "Requirement already satisfied: google-api-core!=2.0.*,!=2.1.*,!=2.2.*,!=2.3.*,!=2.4.*,!=2.5.*,!=2.6.*,!=2.7.*,<3.0.0dev,>=1.34.1 in /opt/conda/lib/python3.10/site-packages (from google-api-core[grpc]!=2.0.*,!=2.1.*,!=2.2.*,!=2.3.*,!=2.4.*,!=2.5.*,!=2.6.*,!=2.7.*,<3.0.0dev,>=1.34.1->google-cloud-aiplatform) (1.34.1)\n",
      "Requirement already satisfied: google-auth<3.0.0dev,>=2.14.1 in /opt/conda/lib/python3.10/site-packages (from google-cloud-aiplatform) (2.37.0)\n",
      "Requirement already satisfied: proto-plus<2.0.0dev,>=1.22.3 in /opt/conda/lib/python3.10/site-packages (from google-cloud-aiplatform) (1.25.0)\n",
      "Requirement already satisfied: protobuf!=4.21.0,!=4.21.1,!=4.21.2,!=4.21.3,!=4.21.4,!=4.21.5,<6.0.0dev,>=3.20.2 in /opt/conda/lib/python3.10/site-packages (from google-cloud-aiplatform) (3.20.3)\n",
      "Requirement already satisfied: packaging>=14.3 in /opt/conda/lib/python3.10/site-packages (from google-cloud-aiplatform) (24.2)\n",
      "Requirement already satisfied: google-cloud-storage<3.0.0dev,>=1.32.0 in /opt/conda/lib/python3.10/site-packages (from google-cloud-aiplatform) (2.14.0)\n",
      "Requirement already satisfied: google-cloud-resource-manager<3.0.0dev,>=1.3.3 in /opt/conda/lib/python3.10/site-packages (from google-cloud-aiplatform) (1.14.0)\n",
      "Requirement already satisfied: shapely<3.0.0dev in /opt/conda/lib/python3.10/site-packages (from google-cloud-aiplatform) (2.0.6)\n",
      "Requirement already satisfied: pydantic<3 in /opt/conda/lib/python3.10/site-packages (from google-cloud-aiplatform) (2.10.4)\n",
      "Requirement already satisfied: docstring-parser<1 in /opt/conda/lib/python3.10/site-packages (from google-cloud-aiplatform) (0.16)\n",
      "Requirement already satisfied: google-cloud-core<3.0.0dev,>=1.6.0 in /opt/conda/lib/python3.10/site-packages (from google-cloud-bigquery) (2.4.1)\n",
      "Requirement already satisfied: google-resumable-media<3.0dev,>=0.6.0 in /opt/conda/lib/python3.10/site-packages (from google-cloud-bigquery) (2.7.2)\n",
      "Requirement already satisfied: python-dateutil<3.0dev,>=2.7.2 in /opt/conda/lib/python3.10/site-packages (from google-cloud-bigquery) (2.9.0.post0)\n",
      "Requirement already satisfied: requests<3.0.0dev,>=2.21.0 in /opt/conda/lib/python3.10/site-packages (from google-cloud-bigquery) (2.32.3)\n",
      "Requirement already satisfied: numpy>=1.22.4 in /opt/conda/lib/python3.10/site-packages (from pandas) (1.26.4)\n",
      "Requirement already satisfied: pytz>=2020.1 in /opt/conda/lib/python3.10/site-packages (from pandas) (2024.2)\n",
      "Requirement already satisfied: tzdata>=2022.7 in /opt/conda/lib/python3.10/site-packages (from pandas) (2024.2)\n",
      "Requirement already satisfied: websockets<15.0dev,>=13.0 in /opt/conda/lib/python3.10/site-packages (from google-genai) (14.1)\n",
      "Requirement already satisfied: typing-extensions<5.0.0dev,>=4.11.0 in /opt/conda/lib/python3.10/site-packages (from google-genai) (4.12.2)\n",
      "Requirement already satisfied: googleapis-common-protos<2.0dev,>=1.56.2 in /opt/conda/lib/python3.10/site-packages (from google-api-core!=2.0.*,!=2.1.*,!=2.2.*,!=2.3.*,!=2.4.*,!=2.5.*,!=2.6.*,!=2.7.*,<3.0.0dev,>=1.34.1->google-api-core[grpc]!=2.0.*,!=2.1.*,!=2.2.*,!=2.3.*,!=2.4.*,!=2.5.*,!=2.6.*,!=2.7.*,<3.0.0dev,>=1.34.1->google-cloud-aiplatform) (1.66.0)\n",
      "Requirement already satisfied: grpcio<2.0dev,>=1.33.2 in /opt/conda/lib/python3.10/site-packages (from google-api-core[grpc]!=2.0.*,!=2.1.*,!=2.2.*,!=2.3.*,!=2.4.*,!=2.5.*,!=2.6.*,!=2.7.*,<3.0.0dev,>=1.34.1->google-cloud-aiplatform) (1.68.1)\n",
      "Requirement already satisfied: grpcio-status<2.0dev,>=1.33.2 in /opt/conda/lib/python3.10/site-packages (from google-api-core[grpc]!=2.0.*,!=2.1.*,!=2.2.*,!=2.3.*,!=2.4.*,!=2.5.*,!=2.6.*,!=2.7.*,<3.0.0dev,>=1.34.1->google-cloud-aiplatform) (1.48.2)\n",
      "Requirement already satisfied: cachetools<6.0,>=2.0.0 in /opt/conda/lib/python3.10/site-packages (from google-auth<3.0.0dev,>=2.14.1->google-cloud-aiplatform) (5.5.0)\n",
      "Requirement already satisfied: pyasn1-modules>=0.2.1 in /opt/conda/lib/python3.10/site-packages (from google-auth<3.0.0dev,>=2.14.1->google-cloud-aiplatform) (0.4.1)\n",
      "Requirement already satisfied: rsa<5,>=3.1.4 in /opt/conda/lib/python3.10/site-packages (from google-auth<3.0.0dev,>=2.14.1->google-cloud-aiplatform) (4.9)\n",
      "Requirement already satisfied: grpc-google-iam-v1<1.0.0dev,>=0.12.4 in /opt/conda/lib/python3.10/site-packages (from google-cloud-resource-manager<3.0.0dev,>=1.3.3->google-cloud-aiplatform) (0.13.1)\n",
      "Requirement already satisfied: google-crc32c<2.0dev,>=1.0 in /opt/conda/lib/python3.10/site-packages (from google-cloud-storage<3.0.0dev,>=1.32.0->google-cloud-aiplatform) (1.6.0)\n",
      "Requirement already satisfied: annotated-types>=0.6.0 in /opt/conda/lib/python3.10/site-packages (from pydantic<3->google-cloud-aiplatform) (0.7.0)\n",
      "Requirement already satisfied: pydantic-core==2.27.2 in /opt/conda/lib/python3.10/site-packages (from pydantic<3->google-cloud-aiplatform) (2.27.2)\n",
      "Requirement already satisfied: six>=1.5 in /opt/conda/lib/python3.10/site-packages (from python-dateutil<3.0dev,>=2.7.2->google-cloud-bigquery) (1.17.0)\n",
      "Requirement already satisfied: charset_normalizer<4,>=2 in /opt/conda/lib/python3.10/site-packages (from requests<3.0.0dev,>=2.21.0->google-cloud-bigquery) (3.4.0)\n",
      "Requirement already satisfied: idna<4,>=2.5 in /opt/conda/lib/python3.10/site-packages (from requests<3.0.0dev,>=2.21.0->google-cloud-bigquery) (3.10)\n",
      "Requirement already satisfied: urllib3<3,>=1.21.1 in /opt/conda/lib/python3.10/site-packages (from requests<3.0.0dev,>=2.21.0->google-cloud-bigquery) (1.26.20)\n",
      "Requirement already satisfied: certifi>=2017.4.17 in /opt/conda/lib/python3.10/site-packages (from requests<3.0.0dev,>=2.21.0->google-cloud-bigquery) (2024.12.14)\n",
      "Requirement already satisfied: pyasn1<0.7.0,>=0.4.6 in /opt/conda/lib/python3.10/site-packages (from pyasn1-modules>=0.2.1->google-auth<3.0.0dev,>=2.14.1->google-cloud-aiplatform) (0.6.1)\n"
     ]
    }
   ],
   "source": [
    "!pip install google-cloud-aiplatform google-cloud-bigquery pandas google-genai\n"
   ]
  },
  {
   "cell_type": "code",
   "execution_count": 14,
   "id": "e35d51a5-ebe4-44ce-8fc6-a2ece8e750ad",
   "metadata": {
    "tags": []
   },
   "outputs": [],
   "source": [
    "from google.cloud import bigquery, aiplatform\n",
    "from google import genai\n",
    "from google.genai.types import HttpOptions\n",
    "import os\n",
    "import json\n",
    "import pandas as pd\n",
    "from datetime import datetime, date"
   ]
  },
  {
   "cell_type": "code",
   "execution_count": 28,
   "id": "c69507d3-4892-4f6f-85bb-70abde252c6e",
   "metadata": {
    "tags": []
   },
   "outputs": [],
   "source": [
    "# Project setup\n",
    "PROJECT_ID = \"mmbtestproject\"\n",
    "if not PROJECT_ID or PROJECT_ID == \"mmbtestproject\":\n",
    "    PROJECT_ID = str(os.environ.get(\"GOOGLE_CLOUD_PROJECT\"))\n",
    "    \n",
    "LOCATION = os.environ.get(\"GOOGLE_CLOUD_REGION\", \"us-central1\")\n",
    "\n",
    "# BigQuery setup\n",
    "DATASET_ID = \"salesforce_data\"\n",
    "SOURCE_TABLE_ID = \"extracted_features\"\n",
    "# RESULT_TABLE_ID = \"churn_predictions\"\n",
    "\n",
    "# Google Generative AI Setup\n",
    "GENAI_CLIENT = genai.Client(vertexai=True, project=PROJECT_ID, location=LOCATION)\n",
    "\n",
    "#MODEL_ID = \"gemini-2.0-flash-001\"  # @param {type: \"string\"}\n",
    "MODEL_ID = \"gemini-2.0-pro-exp-02-05\""
   ]
  },
  {
   "cell_type": "code",
   "execution_count": 16,
   "id": "945bcdbc-5cd2-4787-84de-d9de3ebe7b12",
   "metadata": {
    "tags": []
   },
   "outputs": [],
   "source": [
    "def convert_dates(obj):\n",
    "    \"\"\"Convert date and datetime objects to ISO 8601 formatted strings.\"\"\"\n",
    "    if isinstance(obj, (datetime, date)):\n",
    "        return obj.isoformat()  # Converts to 'YYYY-MM-DD' or 'YYYY-MM-DDTHH:MM:SS'\n",
    "    raise TypeError(f\"Type {type(obj)} not serializable\")\n"
   ]
  },
  {
   "cell_type": "code",
   "execution_count": 35,
   "id": "fdca2350-56e1-4336-92ce-ae6165dce2a7",
   "metadata": {
    "tags": []
   },
   "outputs": [],
   "source": [
    "def extract_features_from_bigquery(project_id, location, dataset_id, table_id):\n",
    "    client = bigquery.Client(project=project_id, location=location)\n",
    "    query = f\"\"\"\n",
    "        SELECT * FROM `{project_id}.{dataset_id}.{table_id}`\n",
    "    \"\"\"\n",
    "    df = client.query(query).to_dataframe()\n",
    "    return df\n",
    "\n",
    "def extract_some_features_from_bigquery(project_id, location, dataset_id, table_id):\n",
    "    client = bigquery.Client(project=project_id, location=location)\n",
    "    query = f\"\"\"\n",
    "        SELECT * \n",
    "        FROM `{project_id}.{dataset_id}.{table_id}`\n",
    "        ORDER BY Client_ID ASC\n",
    "        LIMIT 2\n",
    "    \"\"\"\n",
    "    df = client.query(query).to_dataframe()\n",
    "    return df"
   ]
  },
  {
   "cell_type": "code",
   "execution_count": 18,
   "id": "3f753be9-f517-4499-a0a9-0bdb32eb966d",
   "metadata": {
    "tags": []
   },
   "outputs": [],
   "source": [
    "def analyze_with_gemini(client_data, prompt, project_id, location):\n",
    "    \n",
    "    contents = (prompt + json.dumps(client_data, indent=2, default=convert_dates)\n",
    "    )\n",
    "    \n",
    "    response = GENAI_CLIENT.models.generate_content(\n",
    "                model=MODEL_ID, contents=contents\n",
    "                )\n",
    "    \n",
    "    return response.text\n"
   ]
  },
  {
   "cell_type": "code",
   "execution_count": 19,
   "id": "d187b98c-ca7e-4580-9782-b83deefb0c74",
   "metadata": {
    "tags": []
   },
   "outputs": [],
   "source": [
    "def store_results_in_bigquery(project_id, location, dataset_id, table_id, results):\n",
    "    client = bigquery.Client(project=project_id, location=location)\n",
    "    dataset_ref = client.dataset(dataset_id)\n",
    "    table_ref = dataset_ref.table(table_id)\n",
    "\n",
    "    # Check if table exists\n",
    "    try:\n",
    "        client.get_table(table_ref)  # If table exists, this succeeds\n",
    "        print(f\"Table {dataset_id}.{table_id} found.\")\n",
    "    except Exception as e:\n",
    "        if \"Not found\" in str(e):\n",
    "            print(f\"Table {dataset_id}.{table_id} not found. Creating table...\")\n",
    "            \n",
    "            # Define schema based on `results` structure\n",
    "            schema = [\n",
    "                bigquery.SchemaField(\"Client_ID\", \"STRING\"),\n",
    "                bigquery.SchemaField(\"Churn_Analysis\", \"STRING\"),\n",
    "            ]\n",
    "            \n",
    "            table = bigquery.Table(table_ref, schema=schema)\n",
    "            table = client.create_table(table)\n",
    "            print(f\"Created table {dataset_id}.{table_id}\")\n",
    "        else:\n",
    "            raise  # Rethrow unexpected errors\n",
    "\n",
    "    # Insert data\n",
    "    errors = client.insert_rows_json(table_ref, results)\n",
    "    if errors:\n",
    "        print(\"BigQuery insertion errors:\", errors)\n",
    "    else:\n",
    "        print(\"Results successfully stored in BigQuery.\")"
   ]
  },
  {
   "cell_type": "code",
   "execution_count": 30,
   "id": "0d8dd0a9-7b38-45f0-8b44-8116ef4d4264",
   "metadata": {
    "tags": []
   },
   "outputs": [],
   "source": [
    "file_path = \"churn_analysis_results_3.txt\"\n",
    "RESULT_TABLE_ID = \"churn_predictions_3\"\n",
    "\n",
    "\n",
    "prompt_1 = \"Analyze the risk of client churn based on the following data: \"\n",
    "prompt_2 = \"Act as skilled finacial analist. Mark client to be under the risk of client churn based on the following data: \""
   ]
  },
  {
   "cell_type": "code",
   "execution_count": 40,
   "id": "cfd2257e-834b-4123-bc87-3bffaad4e526",
   "metadata": {
    "tags": []
   },
   "outputs": [],
   "source": [
    "prompt_3 = \"\"\"You are an AI specialized in customer churn prediction.\n",
    "Your task is to analyze client churn risk based on the provided data and output in a structured way as follows:  \n",
    "\n",
    "1. Row (Serial number starting from 1)  \n",
    "2. Client_ID (Unique identifier for the client)  \n",
    "3. Is under the churn risk (A floating-point score between 0.0 and 1.0, where 1.0 indicates 100% likelihood of churn)  \n",
    "4. Short conclusion (Summarize in 2-3 sentences whether the client is likely to churn and why)  \n",
    "5. Analysis (Detailed breakdown of key churn risk indicators)  \n",
    "\n",
    "Instructions for AI Output\n",
    "- Assign a churn risk score based on engagement, unresolved issues, and opportunity trends.  \n",
    "- Keep the Short Conclusion concise (2-3 sentences). \n",
    "- Provide detailed analysis in the last column.  \n",
    "- Ensure all fields are filled.  \n",
    "\n",
    "Now, analyze the following client data and generate the output as instucted:  \n",
    "\"\"\"\n"
   ]
  },
  {
   "cell_type": "code",
   "execution_count": 41,
   "id": "e55a3c51-b9e5-44e1-8989-92a4a0923bb9",
   "metadata": {
    "tags": []
   },
   "outputs": [
    {
     "name": "stdout",
     "output_type": "stream",
     "text": [
      "Created client data\n",
      "Here's the churn risk analysis for the provided client data:\n",
      "\n",
      "| Row | Client_ID | Is under the churn risk | Short conclusion | Analysis |\n",
      "|-----|-----------|--------------------------|-------------------|----------|\n",
      "| 1   | C100000  | 0.75                     | This client is at high risk of churn due to their inactive status and low engagement. The client shows declining opportunity interest and has had a recent high-priority case, indicating potential dissatisfaction. | **Status:** Inactive, which is a major red flag.  <br> **Account Age:** Long account age (1614 days) but inactivity suggests disengagement. <br> **Opportunity Trend:** Only 1 out of 5 opportunities were Closed Won, with 3 still open and 1 Lost. Low closed-won ratio indicates problems in converting potential to sales.<br> **Average Opportunity Amount:** A fair average opportunity amount ($312,133.4) but this is diminished by low conversion.<br>**Last Opportunity Close Date**: Is in the future (2025-11-19), the data might be off. <br> **Cases:** The negative average case age is not possible. Assuming it indicates some issues in timely support., the presence of a recent high-priority case indicates recent significant problems. Closed cases are much less than open cases.<br> **Communication:** Low communication volume (5 total) with the last communication being relatively recent (2025-07-09). The low and future date indicates little to no engagement.<br>**Overall:** The combination of inactivity, low opportunity conversion, and recent high-priority issues strongly point to a high churn risk. The future dates reported in the data requires verification.|\n",
      "\n",
      "Here's the churn risk analysis for the provided client data:\n",
      "\n",
      "| Row | Client_ID | Is under the churn risk | Short conclusion | Analysis |\n",
      "|-----|-----------|--------------------------|--------------------|----------|\n",
      "| 1   | C100001  | 0.75                     | The client is at high risk of churn.  Multiple open cases, especially a high-priority one, combined with negative average case age, indicate significant unresolved issues that require immediate action. | **Engagement:** <br> - Account Age: 625 days (Mature account, but recent issues may override this).<br> - Last Communication Date: 2025-11-21 (Relatively recent, but frequency is low given total opportunities). <br>- Total Communications: 6 (Low relative to account age and open opportunities).<br> - Communication Breakdown: 3 Emails, 2 Calls, 1 Meeting (Balanced but infrequent). <br><br>**Unresolved Issues:** <br>- Open Cases: 3 (Very concerning, all cases are unresolved). <br>- High Priority Cases: 1 (Indicates a critical unresolved issue).<br> - Closed Cases: 0 (No cases have been resolved).<br> - Avg Case Age: -8 days. A negative value implies that `Last_Case_Created_Date` in the future of the analysis date. <br>- Last Case Created Date: 2025-05-28 (Recent case creation, suggesting ongoing problems).<br><br>**Opportunity Trends:** <br>- Total Opportunities: 4. <br>- Closed Won Opportunities: 3 (Good win rate initially).<br> - Closed Lost Opportunities: 0 (No losses, but also limited number of opportunities). <br>- Open Opportunities: 1 (Potentially positive, but overshadowed by open cases). <br>- Avg Opportunity Amount: $206,673.25 (Substantial opportunity size). <br>- Last Opportunity Close Date: 2025-10-15. <br> - Status: Pending (Indicates a potential slowdown or stall in engagement). <br><br> **Overall Risk Assessment:**<br>The combination of multiple unresolved cases, including a high-priority one, coupled with a low communication volume, is alarming. The negative average case age should prompt a data integrity check, but even considering a very short positive age, the situation remains concerning. The fact that all cases are open suggests the client is experiencing significant difficulties and has not received satisfactory solutions. While there's still one open opportunity, the pending overall status and the dominance of unresolved issues put this client at high risk of churn. Immediate and proactive intervention is needed to address the open cases and re-engage the client.\n",
      "|\n",
      "\n",
      "Results saved to churn_analysis_results_3.txt\n",
      "Table salesforce_data.churn_predictions_3 found.\n",
      "Results successfully stored in BigQuery.\n"
     ]
    }
   ],
   "source": [
    "# Main workflow\n",
    "\n",
    "# Extract client features\n",
    "client_data = extract_some_features_from_bigquery(PROJECT_ID, LOCATION, DATASET_ID, SOURCE_TABLE_ID)\n",
    "print(\"Created client data\")\n",
    "\n",
    "results = []\n",
    "for _, row in client_data.iterrows():\n",
    "    response_text = analyze_with_gemini(row.to_dict(), prompt_3, PROJECT_ID, LOCATION)\n",
    "    print(response_text)\n",
    "    results.append({\"Client_ID\": row[\"Client_ID\"], \"Churn_Analysis\": response_text})\n",
    "    \n",
    "    \n",
    "# Save results as a JSON-formatted text file\n",
    "with open(file_path, \"w\") as f:\n",
    "    for result in results:\n",
    "        f.write(json.dumps(result) + \"\\n\")  # Write each result as a JSON string\n",
    "\n",
    "print(f\"Results saved to {file_path}\")\n",
    "\n",
    "# Store results in BigQuery\n",
    "store_results_in_bigquery(PROJECT_ID, LOCATION, DATASET_ID, RESULT_TABLE_ID, results)\n",
    "    \n"
   ]
  },
  {
   "cell_type": "code",
   "execution_count": 37,
   "id": "076649f7-0386-418f-9e6c-f9984042fde0",
   "metadata": {},
   "outputs": [],
   "source": [
    "def calculate_churn_risk(client_data):\n",
    "    churn_risk = 0.0\n",
    "    reasons = []\n",
    "\n",
    "    # Status\n",
    "    if client_data[\"Status\"] == \"Inactive\":\n",
    "        churn_risk += 0.4\n",
    "        reasons.append(\"Client status is Inactive.\")\n",
    "\n",
    "    # Opportunities\n",
    "    opportunity_win_rate = client_data[\"Closed_Won_Opportunities\"] / client_data[\"Total_Opportunities\"] if client_data[\"Total_Opportunities\"] > 0 else 0\n",
    "    if opportunity_win_rate < 0.3:\n",
    "        churn_risk += 0.15\n",
    "        reasons.append(f\"Low opportunity win rate ({opportunity_win_rate:.2f}).\")\n",
    "    if client_data[\"Open_Opportunities\"] == 0 and client_data[\"Closed_Won_Opportunities\"] <=1:\n",
    "        churn_risk += 0.1\n",
    "        reasons.append(\"No open opportunities and few closed-won opportunities.\")\n",
    "\n",
    "    # Communication\n",
    "    last_communication_date = datetime.strptime(client_data[\"Last_Communication_Date\"], \"%Y-%m-%d\")\n",
    "    days_since_last_communication = (datetime.now() - last_communication_date).days\n",
    "    if days_since_last_communication > 180:\n",
    "        churn_risk += 0.25\n",
    "        reasons.append(f\"Long time since last communication ({days_since_last_communication} days).\")\n",
    "    elif days_since_last_communication > 90:\n",
    "        churn_risk += 0.1\n",
    "        reasons.append(f\"{days_since_last_communication} days since last communication.\")\n",
    "\n",
    "    # Cases\n",
    "    if client_data[\"High_Priority_Cases\"] > 0 and client_data[\"Open_Cases\"]==0 :\n",
    "      churn_risk +=0.05\n",
    "      reasons.append(\"Client previously opened High Priority Cases\")\n",
    "\n",
    "    # Avg Case Age Days (Negative values can indicate data errors or future dates)\n",
    "    if client_data[\"Avg_Case_Age_Days\"] < 0 :\n",
    "      churn_risk += 0.05\n",
    "      reasons.append(f\"Negative Avg_Case_Age_Days which might indicate some problems with the data ({client_data['Avg_Case_Age_Days']})\")\n",
    "\n",
    "    churn_risk = min(churn_risk, 1.0)  # Ensure churn risk doesn't exceed 1.0\n",
    "\n",
    "    short_conclusion = \"\"\n",
    "    if churn_risk >= 0.7:\n",
    "        short_conclusion = \"High risk of churn.  The client is inactive and has had limited recent engagement.\"\n",
    "    elif churn_risk >= 0.4:\n",
    "        short_conclusion = \"Moderate risk of churn.  Several factors indicate potential churn risk, requiring attention.\"\n",
    "    else:\n",
    "        short_conclusion = \"Low risk of churn.  The client shows signs of continued engagement.\"\n",
    "\n",
    "    analysis = \" \".join(reasons)\n",
    "\n",
    "    return churn_risk, short_conclusion, analysis\n",
    "\n",
    "# churn_risk, short_conclusion, analysis = calculate_churn_risk(client_data)"
   ]
  }
 ],
 "metadata": {
  "environment": {
   "kernel": "conda-base-py",
   "name": "workbench-notebooks.m127",
   "type": "gcloud",
   "uri": "us-docker.pkg.dev/deeplearning-platform-release/gcr.io/workbench-notebooks:m127"
  },
  "kernelspec": {
   "display_name": "Python 3 (ipykernel) (Local)",
   "language": "python",
   "name": "conda-base-py"
  },
  "language_info": {
   "codemirror_mode": {
    "name": "ipython",
    "version": 3
   },
   "file_extension": ".py",
   "mimetype": "text/x-python",
   "name": "python",
   "nbconvert_exporter": "python",
   "pygments_lexer": "ipython3",
   "version": "3.10.16"
  }
 },
 "nbformat": 4,
 "nbformat_minor": 5
}
